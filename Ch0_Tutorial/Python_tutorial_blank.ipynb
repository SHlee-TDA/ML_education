{
 "cells": [
  {
   "cell_type": "markdown",
   "metadata": {},
   "source": [
    "\n",
    "본 튜토리얼은 PSSC(Postech Siam Student Chapter)의 머신러닝 에듀케이션 챕터에서 제공되는 컨텐츠입니다.\n",
    "상업적으로 무단 배포하실 수 없으며, 문의는 아래의 이메일로 연락주세요.\n",
    "\n",
    "- 제작자 : 이성헌 (Postech GSAI 박사과정)\n",
    "- 연락처 : shlee0125@posetech.ac.kr"
   ]
  },
  {
   "cell_type": "markdown",
   "metadata": {},
   "source": [
    "__공지사항__\n",
    "1. 본 챕터는 정말 코딩을 잘 할 줄 모르시는 분들을 위한 것입니다. 코딩을 어느 정도 할 줄 아신다면, 동일한 컨텐츠를 스터디로 학습하시는 것이 더 좋을 수 있습니다.\n",
    "2. 오늘 배운 내용 외에도 코딩에 대한 연습은 꾸준히 해주시는 것이 좋습니다. Reference는 제공해드리겠습니다. 그렇다고 거창한 프로그램 작성까지 코딩을 요구하는 것은 아니니 걱정하지 마세요.\n",
    "3. 질문은 노트북의 Question이 등장한 시점에 해주세요! 채팅창에 미리 질문을 올려주셔도 좋습니다 :)"
   ]
  },
  {
   "cell_type": "markdown",
   "metadata": {},
   "source": [
    "# [왕초보 머신러닝 파티 시즌 2] ㅣ Python Tutorial\n",
    "\n",
    "- 목표\n",
    "    1. 기본적인 data type\n",
    "    2. `numpy` 사용법 익히기\n",
    "    3. `matplotlib` 시각화 익히기\n",
    "    4. `def`, `if`, `for` 문 사용법 익히기"
   ]
  },
  {
   "cell_type": "markdown",
   "metadata": {},
   "source": [
    "# 01. Data Type"
   ]
  },
  {
   "cell_type": "markdown",
   "metadata": {},
   "source": [
    "- __Data type__ : 데이터마다 가지는 고유한 구조. 데이터 타입마다 사용 가능한 연산, 함수 등이 다릅니다.\n",
    "    - 대표적인 Data type은 __int__ (정수), __float__ (실수), __string__ (문자열), __list__ (리스트), __boolean__ (논리값) 등이 있습니다.\n",
    "    - 수학에서 Algebraic structure와 유사하다고 생각하면 됩니다. 실수와 정수가 가진 연산체계가 다르듯, 데이터 타입마다 연산의 규칙이 다릅니다.\n",
    "    - 어떤 데이터 `x`의 type은 `type(x)` 함수로 알 수 있습니다."
   ]
  },
  {
   "cell_type": "code",
   "execution_count": 33,
   "metadata": {},
   "outputs": [
    {
     "name": "stdout",
     "output_type": "stream",
     "text": [
      "<class 'int'>\n"
     ]
    }
   ],
   "source": [
    "# Example 1.1 ) [int type]\n",
    "a = 7\n",
    "b = 2\n",
    "\n",
    "\n",
    "print(type(a))"
   ]
  },
  {
   "cell_type": "code",
   "execution_count": 40,
   "metadata": {},
   "outputs": [
    {
     "name": "stdout",
     "output_type": "stream",
     "text": [
      "9\n",
      "5\n",
      "14\n",
      "49\n",
      "3\n",
      "1\n"
     ]
    }
   ],
   "source": [
    "print(a+b)\n",
    "\n",
    "print(a-b)\n",
    "\n",
    "print(a*b)\n",
    "\n",
    "print(a**b)\n",
    "\n",
    "print(a//b)\n",
    "\n",
    "print(a%b)"
   ]
  },
  {
   "cell_type": "code",
   "execution_count": 43,
   "metadata": {},
   "outputs": [
    {
     "name": "stdout",
     "output_type": "stream",
     "text": [
      "<class 'float'>\n"
     ]
    }
   ],
   "source": [
    "# Example 1.2 ) [float type]\n",
    "\n",
    "a = 3.14\n",
    "b = 2.0\n",
    "\n",
    "print(type(a))"
   ]
  },
  {
   "cell_type": "code",
   "execution_count": 48,
   "metadata": {},
   "outputs": [
    {
     "data": {
      "text/plain": [
       "9.8596"
      ]
     },
     "execution_count": 48,
     "metadata": {},
     "output_type": "execute_result"
    }
   ],
   "source": [
    "a + b\n",
    "a - b\n",
    "a * b\n",
    "a/b\n",
    "a**b"
   ]
  },
  {
   "cell_type": "code",
   "execution_count": 49,
   "metadata": {},
   "outputs": [
    {
     "name": "stdout",
     "output_type": "stream",
     "text": [
      "<class 'str'>\n"
     ]
    }
   ],
   "source": [
    "# Example 1.3 ) [string type]\n",
    "\n",
    "a = 'Hello'\n",
    "b = 'world!'\n",
    "\n",
    "print(type(a))"
   ]
  },
  {
   "cell_type": "code",
   "execution_count": 52,
   "metadata": {},
   "outputs": [
    {
     "data": {
      "text/plain": [
       "'HelloHelloHelloHelloHelloHelloHelloHelloHelloHelloHelloHelloHelloHelloHelloHelloHelloHelloHelloHelloHelloHelloHelloHelloHelloHelloHelloHelloHelloHelloHelloHelloHelloHelloHelloHelloHelloHelloHelloHelloHelloHelloHelloHelloHelloHelloHelloHelloHelloHelloHelloHelloHelloHelloHelloHelloHelloHelloHelloHelloHelloHelloHelloHelloHelloHelloHelloHelloHelloHelloHelloHelloHelloHelloHelloHelloHelloHelloHelloHelloHelloHelloHelloHelloHelloHelloHelloHelloHelloHelloHelloHelloHelloHelloHelloHelloHelloHelloHelloHello'"
      ]
     },
     "execution_count": 52,
     "metadata": {},
     "output_type": "execute_result"
    }
   ],
   "source": [
    "a + b\n",
    "100*a"
   ]
  },
  {
   "cell_type": "code",
   "execution_count": 58,
   "metadata": {},
   "outputs": [
    {
     "data": {
      "text/plain": [
       "'o'"
      ]
     },
     "execution_count": 58,
     "metadata": {},
     "output_type": "execute_result"
    }
   ],
   "source": [
    "a[1]\n",
    "a[0:2]\n",
    "a[-1]"
   ]
  },
  {
   "cell_type": "code",
   "execution_count": 61,
   "metadata": {},
   "outputs": [
    {
     "name": "stdout",
     "output_type": "stream",
     "text": [
      "<class 'list'>\n",
      "['abc', [1, 2, 3]]\n"
     ]
    }
   ],
   "source": [
    "# Example 1.4 ) [list type]\n",
    "\n",
    "a = [1,2,3,4,5]\n",
    "b = [2,4,6,8,10]\n",
    "\n",
    "print(type(a))\n",
    "\n",
    "\n",
    "c = ['abc',[1,2,3]]\n",
    "print(c)"
   ]
  },
  {
   "cell_type": "code",
   "execution_count": 66,
   "metadata": {},
   "outputs": [
    {
     "data": {
      "text/plain": [
       "5"
      ]
     },
     "execution_count": 66,
     "metadata": {},
     "output_type": "execute_result"
    }
   ],
   "source": [
    "a+b\n",
    "len(a)\n",
    "a[0]\n",
    "a[0:2]\n",
    "a[-1]"
   ]
  },
  {
   "cell_type": "code",
   "execution_count": 68,
   "metadata": {},
   "outputs": [
    {
     "name": "stdout",
     "output_type": "stream",
     "text": [
      "[1, 1, 2, 3, 5, 8, 13]\n"
     ]
    }
   ],
   "source": [
    "f = [1,1,2,3,5,8]\n",
    "# f 뒤에 새로운 숫자를 하나 더 넣고 싶다 어떻게 할까?\n",
    "f.append(13)\n",
    "print(f)"
   ]
  },
  {
   "cell_type": "code",
   "execution_count": 69,
   "metadata": {},
   "outputs": [
    {
     "name": "stdout",
     "output_type": "stream",
     "text": [
      "[1, 1, 2, 3, 5, 8, 13, 21]\n"
     ]
    }
   ],
   "source": [
    "# f에 21을 넣고 싶어요 21은 근데 f의 맨 끝 숫자와 전전 숫자의 합으로 넣어요\n",
    "\n",
    "f.append(f[-1]+f[-2])\n",
    "print(f)"
   ]
  },
  {
   "cell_type": "code",
   "execution_count": 73,
   "metadata": {},
   "outputs": [
    {
     "name": "stdout",
     "output_type": "stream",
     "text": [
      "False\n",
      "True\n",
      "True\n",
      "False\n"
     ]
    }
   ],
   "source": [
    "# Example 1.5 ) [boolean type]\n",
    "\n",
    "a = 1\n",
    "b = 2\n",
    "\n",
    "print(a == b)\n",
    "print(a != b)\n",
    "print(a < b)\n",
    "print(a > b)"
   ]
  },
  {
   "cell_type": "markdown",
   "metadata": {},
   "source": [
    "__Question ?__\n",
    "\n",
    "시진님 : int, float 이 있는데, 1 == 1.0 을 같다고 한다. 왜 그럴까?\n",
    "A : 편의를 위해서 그렇다. 이것은 언어 바이 언어다. "
   ]
  },
  {
   "cell_type": "code",
   "execution_count": 82,
   "metadata": {},
   "outputs": [
    {
     "name": "stdout",
     "output_type": "stream",
     "text": [
      "192893891 는 홀수입니다.\n"
     ]
    }
   ],
   "source": [
    "# Exercise 1) [짝수 판별기]\n",
    "# if 문 !\n",
    "a = 192893891\n",
    "\n",
    "if  a % 2 == 0:\n",
    "    print(f'{a}는 짝수입니다!')\n",
    "else :\n",
    "    print(a, '는 홀수입니다.')\n"
   ]
  },
  {
   "cell_type": "code",
   "execution_count": 86,
   "metadata": {},
   "outputs": [
    {
     "name": "stdout",
     "output_type": "stream",
     "text": [
      "제 이름은 이성헌입니다.\n",
      "제 이름은 이성헌 입니다.\n"
     ]
    }
   ],
   "source": [
    "# print(a, 'str')과 print(f'')의 차이\n",
    "name ='이성헌'\n",
    "f = 123\n",
    "print(f'제 이름은 {name}입니다.')\n",
    "print('제 이름은', name, '입니다.')"
   ]
  },
  {
   "cell_type": "markdown",
   "metadata": {},
   "source": [
    "Data type에 대한 연습은 Jump to Python을 참고해서 필요할때마다 찾아서 사용하면 됩니다."
   ]
  },
  {
   "cell_type": "markdown",
   "metadata": {},
   "source": [
    "# 02. Numpy\n",
    "\n",
    "Numpy는 Numerical한 목적을 위해 Python을 사용하는 데에 도움을 주는 라이브러리입니다.\n",
    "\n",
    "라이브러리란, 함수들의 모임이라고 생각하시면 좋습니다.\n",
    "\n",
    "Python은 여러 라이브러리를 필요에 따라 import하여, 각 라이브러리의 유용한 함수들을 꺼내서 쓸 수 있는 확장성을 가지고 있습니다."
   ]
  },
  {
   "cell_type": "markdown",
   "metadata": {},
   "source": [
    "- `np.array` 연산\n",
    "- `np.matrix` 연산\n",
    "- `def` 사용법"
   ]
  },
  {
   "cell_type": "code",
   "execution_count": 88,
   "metadata": {},
   "outputs": [],
   "source": [
    "import numpy as np"
   ]
  },
  {
   "cell_type": "code",
   "execution_count": 91,
   "metadata": {},
   "outputs": [
    {
     "name": "stdout",
     "output_type": "stream",
     "text": [
      "[1 0]\n",
      "<class 'numpy.ndarray'>\n"
     ]
    }
   ],
   "source": [
    "# Example 2.1) np.array\n",
    "\n",
    "'''\n",
    "array형 데이터를 정의하는 방법은 np.array()의 괄호 안에 list 형 데이터를 입력하는 것입니다.\n",
    "'''\n",
    "a = np.array([1,0])    \n",
    "print(a)\n",
    "print(type(a))\n"
   ]
  },
  {
   "cell_type": "markdown",
   "metadata": {},
   "source": [
    "처음 코딩을 할 때 list와 array의 용도를 자주 헷갈려 합니다.\n",
    "\n",
    "list는 그저 나열이기 때문에 list끼리의 덧셈은 나열과 나열을 연결할 뿐이지만, array는 일종의 벡터이기 때문에 벡터의 덧셈처럼 componenetwise 정의됩니다."
   ]
  },
  {
   "cell_type": "code",
   "execution_count": 99,
   "metadata": {},
   "outputs": [
    {
     "data": {
      "text/plain": [
       "array([1, 4])"
      ]
     },
     "execution_count": 99,
     "metadata": {},
     "output_type": "execute_result"
    }
   ],
   "source": [
    "# Example 2.2) array의 연산\n",
    "\n",
    "# array 끼리 사칙연산과 벡터의 내적 등도 할 수 있습니다.\n",
    "x = np.array([3,4])\n",
    "y = np.array([2,1])\n",
    "k = 3\n",
    "\n",
    "# 덧셈, 뺄셈, 스칼라곱\n",
    "x+y\n",
    "x-y\n",
    "k*x\n",
    "\n",
    "# 곱셈, 나눗셈 등은 componentwise하게 작동합니다.\n",
    "\n",
    "x*y\n",
    "x/y\n",
    "x%y\n",
    "x//y"
   ]
  },
  {
   "cell_type": "code",
   "execution_count": 100,
   "metadata": {},
   "outputs": [
    {
     "data": {
      "text/plain": [
       "10"
      ]
     },
     "execution_count": 100,
     "metadata": {},
     "output_type": "execute_result"
    }
   ],
   "source": [
    "np.dot(x,y)"
   ]
  },
  {
   "cell_type": "code",
   "execution_count": 102,
   "metadata": {},
   "outputs": [],
   "source": [
    "# Example 2.3) def : array의 연산을 이용해 함수 정의하기\n",
    "# norm\n",
    "\n",
    "#def 함수이름(변수):\n",
    "#    조건들\n",
    "#    return 결과값\n",
    "\n",
    "# sqrt of inner product\n",
    "def norm(x):\n",
    "    temp = np.dot(x,x)\n",
    "    return np.sqrt(temp)\n"
   ]
  },
  {
   "cell_type": "code",
   "execution_count": 108,
   "metadata": {},
   "outputs": [
    {
     "name": "stdout",
     "output_type": "stream",
     "text": [
      "0.9999999999999999\n",
      "5.0\n"
     ]
    }
   ],
   "source": [
    "v = np.array([1/2,np.sqrt(3)/2])\n",
    "\n",
    "print(norm(v))\n",
    "print(norm(x))"
   ]
  },
  {
   "cell_type": "markdown",
   "metadata": {},
   "source": [
    "__Question ?__"
   ]
  },
  {
   "cell_type": "code",
   "execution_count": 112,
   "metadata": {},
   "outputs": [],
   "source": [
    "# Exercise [distance function]\n",
    "\n",
    "def dist(vec1,vec2):\n",
    "    return norm(np.array(vec1) - np.array(vec2))\n",
    "\n",
    "def dist(x,y) :\n",
    "    T = x-y\n",
    "    return norm(T)\n",
    "\n",
    "def distance(x,y):\n",
    "    return (np.dot(x-y,x-y))**0.5"
   ]
  },
  {
   "cell_type": "markdown",
   "metadata": {},
   "source": [
    "(Reference Equation)\n",
    "$$ x \\cdot y = \\lVert x \\rVert \\lVert y \\rVert \\cos \\theta $$"
   ]
  },
  {
   "cell_type": "code",
   "execution_count": 32,
   "metadata": {},
   "outputs": [
    {
     "data": {
      "text/plain": [
       "\"\\n위 Reference Equation을 참고하여, 두 벡터 사이의 cosine 값을 구하는 함수를 작성하세요.\\n단, 함수의 이름은 'cos'로 정의하지 마세요. 다른 라이브러리의 cos 함수와 충돌을 일으킬 수 있습니다.\\n\""
      ]
     },
     "execution_count": 32,
     "metadata": {},
     "output_type": "execute_result"
    }
   ],
   "source": [
    "# Exercise [Cosine Law]\n",
    "'''\n",
    "위 Reference Equation을 참고하여, 두 벡터 사이의 cosine 값을 구하는 함수를 작성하세요.\n",
    "단, 함수의 이름은 'cos'로 정의하지 마세요. 다른 라이브러리의 cos 함수와 충돌을 일으킬 수 있습니다.\n",
    "'''\n",
    "\n"
   ]
  },
  {
   "cell_type": "markdown",
   "metadata": {},
   "source": [
    " 행렬은 `array` 타입으로도 입력이 가능하지만, `matrix` 타입이 따로 있습니다. \n",
    " `matrix` 타입은 벡터와는 다른, 행렬만의 간편한 기능들이 첨가되어 있기 때문에 행렬을 다룰 때엔 `matrix` 타입으로 변환하는 것을 추천드립니다. "
   ]
  },
  {
   "cell_type": "code",
   "execution_count": 117,
   "metadata": {},
   "outputs": [
    {
     "name": "stdout",
     "output_type": "stream",
     "text": [
      "[[1 2 3]\n",
      " [4 5 6]\n",
      " [7 8 9]]\n"
     ]
    }
   ],
   "source": [
    "# Example 2.4) np.matrix \n",
    "'''\n",
    "matrix는 하나의 list에 여러 개의 list가 들어간 것을 입력하여 정의합니다.\n",
    "즉, [list1, list2, list3] 형태로 입력됩니다.\n",
    "이때 각 list1, list2, list3은 matrix의 행 역할을 하게 됩니다.\n",
    "'''\n",
    "\n",
    "A = np.matrix([[1,2,3],[4,5,6],[7,8,9]])\n",
    "print(A)"
   ]
  },
  {
   "cell_type": "code",
   "execution_count": 118,
   "metadata": {},
   "outputs": [
    {
     "data": {
      "text/plain": [
       "(3, 3)"
      ]
     },
     "execution_count": 118,
     "metadata": {},
     "output_type": "execute_result"
    }
   ],
   "source": [
    "A.shape"
   ]
  },
  {
   "cell_type": "code",
   "execution_count": 121,
   "metadata": {},
   "outputs": [
    {
     "name": "stdout",
     "output_type": "stream",
     "text": [
      "덧셈: x + y = \n",
      " [[ 3  6  9]\n",
      " [12 15 18]\n",
      " [21 24 27]]\n",
      "뺄셈: x - y = \n",
      " [[-1 -2 -3]\n",
      " [-4 -5 -6]\n",
      " [-7 -8 -9]]\n",
      "스칼라배: k * x = \n",
      " [[ 3  6  9]\n",
      " [12 15 18]\n",
      " [21 24 27]]\n",
      "곱셈 : x * y = \n",
      " [[ 60  72  84]\n",
      " [132 162 192]\n",
      " [204 252 300]]\n",
      "내적 : np.dot(x,y) = \n",
      " [[ 60  72  84]\n",
      " [132 162 192]\n",
      " [204 252 300]]\n"
     ]
    }
   ],
   "source": [
    "# Example 2.5) matrix 연산\n",
    "\n",
    "A = np.matrix([[1,2,3],[4,5,6],[7,8,9]])\n",
    "B = np.matrix([[2,4,6],[8,10,12],[14,16,18]])\n",
    "k = 3\n",
    "\n",
    "# 덧셈과 뺄셈과 스칼라배. 행렬처럼 작동합니다.\n",
    "print('덧셈: x + y = \\n', A+B)\n",
    "print('뺄셈: x - y = \\n', A-B)\n",
    "print('스칼라배: k * x = \\n', k*A)\n",
    "\n",
    "# 곱셈은 matrix multiplication으로 작동합니다.\n",
    "print('곱셈 : x * y = \\n', A*B)\n",
    "\n",
    "# matrix의 곱셈은 matrix 간의 dot product의 값과 같습니다.\n",
    "print('내적 : np.dot(x,y) = \\n', np.dot(A,B))"
   ]
  },
  {
   "cell_type": "code",
   "execution_count": 125,
   "metadata": {},
   "outputs": [
    {
     "data": {
      "text/plain": [
       "matrix([[ 3.15251974e+15, -6.30503948e+15,  3.15251974e+15],\n",
       "        [-6.30503948e+15,  1.26100790e+16, -6.30503948e+15],\n",
       "        [ 3.15251974e+15, -6.30503948e+15,  3.15251974e+15]])"
      ]
     },
     "execution_count": 125,
     "metadata": {},
     "output_type": "execute_result"
    }
   ],
   "source": [
    "# transpose 와 inverse 등, matrix 만의 특별한 연산이 가능합니다. (array에서는 이 연산이 잘 작동하지 않습니다.)\n",
    "A.T\n",
    "A.I"
   ]
  },
  {
   "cell_type": "code",
   "execution_count": 133,
   "metadata": {},
   "outputs": [
    {
     "name": "stdout",
     "output_type": "stream",
     "text": [
      "덧셈: x + y = \n",
      " [[ 3  6  9]\n",
      " [12 15 18]\n",
      " [21 24 27]]\n",
      "뺄셈: x - y = \n",
      " [[-1 -2 -3]\n",
      " [-4 -5 -6]\n",
      " [-7 -8 -9]]\n",
      "스칼라배: k * x = \n",
      " [[ 3  6  9]\n",
      " [12 15 18]\n",
      " [21 24 27]]\n",
      "곱셈 : x * y = \n",
      " [[  2   8  18]\n",
      " [ 32  50  72]\n",
      " [ 98 128 162]]\n",
      "내적 : np.dot(x,y) = \n",
      " [[ 60  72  84]\n",
      " [132 162 192]\n",
      " [204 252 300]]\n",
      "transpose : A.T = \n",
      "  [[1 4 7]\n",
      " [2 5 8]\n",
      " [3 6 9]]\n"
     ]
    }
   ],
   "source": [
    "# Example 2.6) matrix vs array\n",
    "\n",
    "A = np.array([[1,2,3],[4,5,6],[7,8,9]])\n",
    "B = np.array([[2,4,6],[8,10,12],[14,16,18]])\n",
    "k = 3\n",
    "\n",
    "# 덧셈과 뺄셈과 스칼라배. 행렬처럼 작동합니다.\n",
    "print('덧셈: x + y = \\n', A+B)\n",
    "print('뺄셈: x - y = \\n', A-B)\n",
    "print('스칼라배: k * x = \\n', k*A)\n",
    "\n",
    "# 곱셈은 componentwise 작동하므로 기존 행렬의 곱셈과 다릅니다..\n",
    "print('곱셈 : x * y = \\n', A*B)\n",
    "\n",
    "# matrix의 곱셈은 matrix 간의 dot product의 값과 같습니다.\n",
    "print('내적 : np.dot(x,y) = \\n', np.dot(A,B))\n",
    "\n",
    "\n",
    "print('transpose : A.T = \\n ', A.T)\n",
    "# print('inverse : A.I = \\n', A.I) 이 기능은 array에서는 작동하지 않습니다."
   ]
  },
  {
   "cell_type": "code",
   "execution_count": 145,
   "metadata": {},
   "outputs": [
    {
     "data": {
      "text/plain": [
       "matrix([[2, 0]])"
      ]
     },
     "execution_count": 145,
     "metadata": {},
     "output_type": "execute_result"
    }
   ],
   "source": [
    "# Exercise 2.7) Matrix multiplication\n",
    "'''\n",
    "어떻게 곱해야 할까?\n",
    "'''\n",
    "\n",
    "\n",
    "A = np.matrix([[1,-1],[1,1]])\n",
    "x = np.array([1,0])\n",
    "x = [1,-1]\n",
    "# A*x : 사이즈 문제로 안된다. x를 '행벡터'로 받아들이기 때문\n",
    "# A@x : 이렇게 곱하면 x를 '열벡터'로 취급해 계산해준다.\n",
    "\n",
    "A@x"
   ]
  },
  {
   "cell_type": "markdown",
   "metadata": {},
   "source": [
    "__Question?__"
   ]
  },
  {
   "cell_type": "markdown",
   "metadata": {},
   "source": [
    "# 03. Matplotlib\n",
    "\n",
    "`matplotlib` 은 가장 기본적인 시각화 도구입니다.\n",
    "\n",
    "시각화는 함수의 그래프를 그리거나, 데이터의 분포를 확인하는 데에 이용됩니다."
   ]
  },
  {
   "cell_type": "code",
   "execution_count": 146,
   "metadata": {},
   "outputs": [],
   "source": [
    "import numpy as np\n",
    "import matplotlib.pyplot as plt"
   ]
  },
  {
   "cell_type": "code",
   "execution_count": 148,
   "metadata": {},
   "outputs": [
    {
     "data": {
      "text/plain": [
       "[<matplotlib.lines.Line2D at 0x1270dd070>]"
      ]
     },
     "execution_count": 148,
     "metadata": {},
     "output_type": "execute_result"
    },
    {
     "data": {
      "image/png": "[encoded data removed]",
      "text/plain": [
       "<Figure size 432x288 with 1 Axes>"
      ]
     },
     "metadata": {
      "needs_background": "light"
     },
     "output_type": "display_data"
    }
   ],
   "source": [
    "# Example 3.1 ) plt.plot\n",
    "\n",
    "\n",
    "domain = np.linspace(-1,1, 100)\n",
    "# np.linspace(a,b,n)는 구간 [a,b]를 n등분한 array를 만드는 함수입니다.\n",
    "\n",
    "def my_function(x):\n",
    "    return x**2 + 2*x *1\n",
    "\n",
    "def my_function(x):\n",
    "    return x**2*np.exp(-x)\n",
    "# np.sin np.cos\n",
    "\n",
    "plt.plot(domain, my_function(domain))"
   ]
  },
  {
   "cell_type": "code",
   "execution_count": 156,
   "metadata": {},
   "outputs": [
    {
     "data": {
      "text/plain": [
       "Text(0.5, 1.0, 'Graph')"
      ]
     },
     "execution_count": 156,
     "metadata": {},
     "output_type": "execute_result"
    },
    {
     "data": {
      "image/png": "[encoded data removed]",
      "text/plain": [
       "<Figure size 432x288 with 1 Axes>"
      ]
     },
     "metadata": {
      "needs_background": "light"
     },
     "output_type": "display_data"
    }
   ],
   "source": [
    "# Example 3.1 ) plt.plot 2\n",
    "\n",
    "\n",
    "x = np.linspace(-1,1, 100)\n",
    "# np.linspace(a,b,n)는 구간 [a,b]를 n등분한 array를 만드는 함수입니다.\n",
    "\n",
    "def my_function(x):\n",
    "    return x**2 + 2*x +1\n",
    "\n",
    "def my_diff(x):\n",
    "    return 2*x + 2\n",
    "\n",
    "plt.plot(x,my_function(x), '-r', label = '$f(x) = x^2 + 2x +1$')\n",
    "plt.plot(x,my_diff(x), '-b', label = \"$f'(x) =2x +2$\")\n",
    "plt.legend()\n",
    "plt.title('Graph', fontsize = 20)\n"
   ]
  },
  {
   "cell_type": "markdown",
   "metadata": {},
   "source": [
    "__Question ?__"
   ]
  },
  {
   "cell_type": "markdown",
   "metadata": {},
   "source": [
    "# 05. 난수 생성"
   ]
  },
  {
   "cell_type": "code",
   "execution_count": 160,
   "metadata": {},
   "outputs": [
    {
     "name": "stdout",
     "output_type": "stream",
     "text": [
      "4\n"
     ]
    }
   ],
   "source": [
    "# 정수 난수 생성\n",
    "rand_int = np.random.randint(6)\n",
    "print(rand_int)\n",
    "# 주사위처럼 0~5 까지 6개의 정수 중에서 랜덤으로 하나의 값을 생성합니다.\n"
   ]
  },
  {
   "cell_type": "code",
   "execution_count": 165,
   "metadata": {},
   "outputs": [
    {
     "name": "stdout",
     "output_type": "stream",
     "text": [
      "4\n"
     ]
    }
   ],
   "source": [
    "\n",
    "dice = 1+np.random.randint(6)\n",
    "print(dice)\n",
    "# 이렇게 하면 실제 주사위처럼 1~6 까지의 6개 정수 중 하나의 값을 생성합니다. \n"
   ]
  },
  {
   "cell_type": "code",
   "execution_count": 167,
   "metadata": {},
   "outputs": [
    {
     "name": "stdout",
     "output_type": "stream",
     "text": [
      "0번째 주사위를 던졌다!\n",
      "나온 눈의 수는 6\n",
      "1번째 주사위를 던졌다!\n",
      "나온 눈의 수는 1\n",
      "2번째 주사위를 던졌다!\n",
      "나온 눈의 수는 3\n",
      "3번째 주사위를 던졌다!\n",
      "나온 눈의 수는 1\n",
      "4번째 주사위를 던졌다!\n",
      "나온 눈의 수는 1\n",
      "5번째 주사위를 던졌다!\n",
      "나온 눈의 수는 4\n",
      "6번째 주사위를 던졌다!\n",
      "나온 눈의 수는 4\n",
      "7번째 주사위를 던졌다!\n",
      "나온 눈의 수는 4\n",
      "8번째 주사위를 던졌다!\n",
      "나온 눈의 수는 4\n",
      "9번째 주사위를 던졌다!\n",
      "나온 눈의 수는 4\n",
      "10번째 주사위를 던졌다!\n",
      "나온 눈의 수는 1\n",
      "11번째 주사위를 던졌다!\n",
      "나온 눈의 수는 2\n",
      "12번째 주사위를 던졌다!\n",
      "나온 눈의 수는 2\n",
      "13번째 주사위를 던졌다!\n",
      "나온 눈의 수는 6\n",
      "14번째 주사위를 던졌다!\n",
      "나온 눈의 수는 1\n",
      "15번째 주사위를 던졌다!\n",
      "나온 눈의 수는 2\n",
      "16번째 주사위를 던졌다!\n",
      "나온 눈의 수는 4\n",
      "17번째 주사위를 던졌다!\n",
      "나온 눈의 수는 2\n",
      "18번째 주사위를 던졌다!\n",
      "나온 눈의 수는 4\n",
      "19번째 주사위를 던졌다!\n",
      "나온 눈의 수는 5\n",
      "20번째 주사위를 던졌다!\n",
      "나온 눈의 수는 3\n",
      "21번째 주사위를 던졌다!\n",
      "나온 눈의 수는 2\n",
      "22번째 주사위를 던졌다!\n",
      "나온 눈의 수는 6\n",
      "23번째 주사위를 던졌다!\n",
      "나온 눈의 수는 6\n",
      "24번째 주사위를 던졌다!\n",
      "나온 눈의 수는 1\n",
      "25번째 주사위를 던졌다!\n",
      "나온 눈의 수는 4\n",
      "26번째 주사위를 던졌다!\n",
      "나온 눈의 수는 4\n",
      "27번째 주사위를 던졌다!\n",
      "나온 눈의 수는 6\n",
      "28번째 주사위를 던졌다!\n",
      "나온 눈의 수는 2\n",
      "29번째 주사위를 던졌다!\n",
      "나온 눈의 수는 3\n",
      "30번째 주사위를 던졌다!\n",
      "나온 눈의 수는 5\n",
      "31번째 주사위를 던졌다!\n",
      "나온 눈의 수는 1\n",
      "32번째 주사위를 던졌다!\n",
      "나온 눈의 수는 5\n",
      "33번째 주사위를 던졌다!\n",
      "나온 눈의 수는 1\n",
      "34번째 주사위를 던졌다!\n",
      "나온 눈의 수는 5\n",
      "35번째 주사위를 던졌다!\n",
      "나온 눈의 수는 2\n",
      "36번째 주사위를 던졌다!\n",
      "나온 눈의 수는 3\n",
      "37번째 주사위를 던졌다!\n",
      "나온 눈의 수는 4\n",
      "38번째 주사위를 던졌다!\n",
      "나온 눈의 수는 6\n",
      "39번째 주사위를 던졌다!\n",
      "나온 눈의 수는 6\n",
      "40번째 주사위를 던졌다!\n",
      "나온 눈의 수는 3\n",
      "41번째 주사위를 던졌다!\n",
      "나온 눈의 수는 3\n",
      "42번째 주사위를 던졌다!\n",
      "나온 눈의 수는 2\n",
      "43번째 주사위를 던졌다!\n",
      "나온 눈의 수는 4\n",
      "44번째 주사위를 던졌다!\n",
      "나온 눈의 수는 1\n",
      "45번째 주사위를 던졌다!\n",
      "나온 눈의 수는 5\n",
      "46번째 주사위를 던졌다!\n",
      "나온 눈의 수는 1\n",
      "47번째 주사위를 던졌다!\n",
      "나온 눈의 수는 3\n",
      "48번째 주사위를 던졌다!\n",
      "나온 눈의 수는 2\n",
      "49번째 주사위를 던졌다!\n",
      "나온 눈의 수는 6\n",
      "50번째 주사위를 던졌다!\n",
      "나온 눈의 수는 6\n",
      "51번째 주사위를 던졌다!\n",
      "나온 눈의 수는 5\n",
      "52번째 주사위를 던졌다!\n",
      "나온 눈의 수는 3\n",
      "53번째 주사위를 던졌다!\n",
      "나온 눈의 수는 4\n",
      "54번째 주사위를 던졌다!\n",
      "나온 눈의 수는 1\n",
      "55번째 주사위를 던졌다!\n",
      "나온 눈의 수는 5\n",
      "56번째 주사위를 던졌다!\n",
      "나온 눈의 수는 2\n",
      "57번째 주사위를 던졌다!\n",
      "나온 눈의 수는 4\n",
      "58번째 주사위를 던졌다!\n",
      "나온 눈의 수는 3\n",
      "59번째 주사위를 던졌다!\n",
      "나온 눈의 수는 4\n",
      "60번째 주사위를 던졌다!\n",
      "나온 눈의 수는 1\n",
      "61번째 주사위를 던졌다!\n",
      "나온 눈의 수는 2\n",
      "62번째 주사위를 던졌다!\n",
      "나온 눈의 수는 1\n",
      "63번째 주사위를 던졌다!\n",
      "나온 눈의 수는 5\n",
      "64번째 주사위를 던졌다!\n",
      "나온 눈의 수는 2\n",
      "65번째 주사위를 던졌다!\n",
      "나온 눈의 수는 5\n",
      "66번째 주사위를 던졌다!\n",
      "나온 눈의 수는 3\n",
      "67번째 주사위를 던졌다!\n",
      "나온 눈의 수는 1\n",
      "68번째 주사위를 던졌다!\n",
      "나온 눈의 수는 2\n",
      "69번째 주사위를 던졌다!\n",
      "나온 눈의 수는 4\n",
      "70번째 주사위를 던졌다!\n",
      "나온 눈의 수는 1\n",
      "71번째 주사위를 던졌다!\n",
      "나온 눈의 수는 5\n",
      "72번째 주사위를 던졌다!\n",
      "나온 눈의 수는 1\n",
      "73번째 주사위를 던졌다!\n",
      "나온 눈의 수는 4\n",
      "74번째 주사위를 던졌다!\n",
      "나온 눈의 수는 3\n",
      "75번째 주사위를 던졌다!\n",
      "나온 눈의 수는 3\n",
      "76번째 주사위를 던졌다!\n",
      "나온 눈의 수는 2\n",
      "77번째 주사위를 던졌다!\n",
      "나온 눈의 수는 2\n",
      "78번째 주사위를 던졌다!\n",
      "나온 눈의 수는 5\n",
      "79번째 주사위를 던졌다!\n",
      "나온 눈의 수는 1\n",
      "80번째 주사위를 던졌다!\n",
      "나온 눈의 수는 5\n",
      "81번째 주사위를 던졌다!\n",
      "나온 눈의 수는 1\n",
      "82번째 주사위를 던졌다!\n",
      "나온 눈의 수는 1\n",
      "83번째 주사위를 던졌다!\n",
      "나온 눈의 수는 3\n",
      "84번째 주사위를 던졌다!\n",
      "나온 눈의 수는 3\n",
      "85번째 주사위를 던졌다!\n",
      "나온 눈의 수는 6\n",
      "86번째 주사위를 던졌다!\n",
      "나온 눈의 수는 3\n",
      "87번째 주사위를 던졌다!\n",
      "나온 눈의 수는 2\n",
      "88번째 주사위를 던졌다!\n",
      "나온 눈의 수는 4\n",
      "89번째 주사위를 던졌다!\n",
      "나온 눈의 수는 4\n",
      "90번째 주사위를 던졌다!\n",
      "나온 눈의 수는 4\n",
      "91번째 주사위를 던졌다!\n",
      "나온 눈의 수는 2\n",
      "92번째 주사위를 던졌다!\n",
      "나온 눈의 수는 3\n",
      "93번째 주사위를 던졌다!\n",
      "나온 눈의 수는 1\n",
      "94번째 주사위를 던졌다!\n",
      "나온 눈의 수는 3\n",
      "95번째 주사위를 던졌다!\n",
      "나온 눈의 수는 4\n",
      "96번째 주사위를 던졌다!\n",
      "나온 눈의 수는 2\n",
      "97번째 주사위를 던졌다!\n",
      "나온 눈의 수는 5\n",
      "98번째 주사위를 던졌다!\n",
      "나온 눈의 수는 3\n",
      "99번째 주사위를 던졌다!\n",
      "나온 눈의 수는 2\n"
     ]
    }
   ],
   "source": [
    "# Example 5.1) for 문\n",
    "'''\n",
    "for 문은 어떤 행동을 반복할 때 사용합니다.\n",
    "'''\n",
    "\n",
    "for n in range(0,100):\n",
    "    print(f'{n}번째 주사위를 던졌다!')\n",
    "    print(f'나온 눈의 수는 {1+np.random.randint(6)}')\n"
   ]
  },
  {
   "cell_type": "code",
   "execution_count": 173,
   "metadata": {},
   "outputs": [
    {
     "data": {
      "text/plain": [
       "(array([1585., 1684., 1665., 1655., 1697., 1714.]),\n",
       " array([1.        , 1.83333333, 2.66666667, 3.5       , 4.33333333,\n",
       "        5.16666667, 6.        ]),\n",
       " <BarContainer object of 6 artists>)"
      ]
     },
     "execution_count": 173,
     "metadata": {},
     "output_type": "execute_result"
    },
    {
     "data": {
      "image/png": "[encoded data removed]",
      "text/plain": [
       "<Figure size 432x288 with 1 Axes>"
      ]
     },
     "metadata": {
      "needs_background": "light"
     },
     "output_type": "display_data"
    }
   ],
   "source": [
    "# Example 5.2) plt.hist\n",
    "'''\n",
    "plt.hist 는 히스토그램을 살펴볼 수 있게 해줍니다.\n",
    "'''\n",
    "\n",
    "history = []\n",
    "\n",
    "for i in range(0,10000):\n",
    "    dice = 1+np.random.randint(6)\n",
    "    history.append(dice)\n",
    "\n",
    "\n",
    "plt.hist(history, bins=6)"
   ]
  },
  {
   "cell_type": "markdown",
   "metadata": {},
   "source": [
    "__Question?__"
   ]
  },
  {
   "cell_type": "code",
   "execution_count": 178,
   "metadata": {},
   "outputs": [
    {
     "name": "stdout",
     "output_type": "stream",
     "text": [
      "0.8893504548981838\n"
     ]
    }
   ],
   "source": [
    "\n",
    "# 소수 난수 생성\n",
    "rand_flot = np.random.rand()\n",
    "# 0 ~ 1 사이의 소수를 랜덤으로 반환합니다. 즉, Unif[0,1]을 따르는 샘플링입니다.\n",
    "print(rand_flot)\n"
   ]
  },
  {
   "cell_type": "code",
   "execution_count": 179,
   "metadata": {},
   "outputs": [
    {
     "name": "stdout",
     "output_type": "stream",
     "text": [
      "-0.3039952070633476\n"
     ]
    }
   ],
   "source": [
    "\n",
    "rand_snd = np.random.randn()\n",
    "# Standard Normal Distribution N(0,1)을 따르는 분포에서 샘플링을 합니다.\n",
    "# 이 식을 선형적으로 변환하면 일반적인 정규분포 N(m,sigma)에서 샘플링이 가능합니다.\n",
    "print(rand_snd)\n"
   ]
  },
  {
   "cell_type": "code",
   "execution_count": 180,
   "metadata": {},
   "outputs": [
    {
     "name": "stdout",
     "output_type": "stream",
     "text": [
      "21.0116146193143\n"
     ]
    }
   ],
   "source": [
    "\n",
    "\n",
    "mu = 20\n",
    "sigma = 5\n",
    "rand_normal = sigma*np.random.randn()+mu\n",
    "print(rand_normal)"
   ]
  },
  {
   "cell_type": "code",
   "execution_count": 186,
   "metadata": {},
   "outputs": [
    {
     "data": {
      "text/plain": [
       "(array([1.000e+00, 0.000e+00, 0.000e+00, 1.000e+00, 2.000e+00, 2.000e+00,\n",
       "        4.000e+00, 3.000e+00, 6.000e+00, 7.000e+00, 9.000e+00, 1.100e+01,\n",
       "        1.900e+01, 2.600e+01, 3.400e+01, 3.400e+01, 5.200e+01, 5.900e+01,\n",
       "        7.500e+01, 1.250e+02, 1.340e+02, 1.700e+02, 2.570e+02, 3.060e+02,\n",
       "        3.290e+02, 4.130e+02, 5.080e+02, 5.370e+02, 6.660e+02, 8.210e+02,\n",
       "        9.330e+02, 1.136e+03, 1.219e+03, 1.333e+03, 1.553e+03, 1.712e+03,\n",
       "        1.958e+03, 2.166e+03, 2.332e+03, 2.588e+03, 2.659e+03, 2.983e+03,\n",
       "        3.121e+03, 3.095e+03, 3.325e+03, 3.375e+03, 3.540e+03, 3.589e+03,\n",
       "        3.661e+03, 3.622e+03, 3.555e+03, 3.461e+03, 3.446e+03, 3.280e+03,\n",
       "        3.087e+03, 3.002e+03, 2.851e+03, 2.595e+03, 2.481e+03, 2.220e+03,\n",
       "        2.014e+03, 1.873e+03, 1.644e+03, 1.493e+03, 1.308e+03, 1.229e+03,\n",
       "        9.750e+02, 8.530e+02, 7.360e+02, 6.400e+02, 4.970e+02, 4.480e+02,\n",
       "        3.480e+02, 3.010e+02, 2.410e+02, 2.050e+02, 1.610e+02, 1.280e+02,\n",
       "        1.130e+02, 7.900e+01, 6.000e+01, 3.600e+01, 3.600e+01, 2.100e+01,\n",
       "        1.500e+01, 7.000e+00, 1.600e+01, 1.000e+01, 7.000e+00, 4.000e+00,\n",
       "        1.000e+00, 5.000e+00, 4.000e+00, 0.000e+00, 0.000e+00, 1.000e+00,\n",
       "        1.000e+00, 0.000e+00, 0.000e+00, 1.000e+00]),\n",
       " array([-4.37380033, -4.28409532, -4.19439031, -4.1046853 , -4.01498029,\n",
       "        -3.92527528, -3.83557027, -3.74586526, -3.65616025, -3.56645524,\n",
       "        -3.47675023, -3.38704522, -3.29734021, -3.2076352 , -3.11793019,\n",
       "        -3.02822518, -2.93852017, -2.84881516, -2.75911015, -2.66940514,\n",
       "        -2.57970013, -2.48999512, -2.40029011, -2.3105851 , -2.22088009,\n",
       "        -2.13117508, -2.04147008, -1.95176507, -1.86206006, -1.77235505,\n",
       "        -1.68265004, -1.59294503, -1.50324002, -1.41353501, -1.32383   ,\n",
       "        -1.23412499, -1.14441998, -1.05471497, -0.96500996, -0.87530495,\n",
       "        -0.78559994, -0.69589493, -0.60618992, -0.51648491, -0.4267799 ,\n",
       "        -0.33707489, -0.24736988, -0.15766487, -0.06795986,  0.02174515,\n",
       "         0.11145016,  0.20115517,  0.29086018,  0.38056519,  0.4702702 ,\n",
       "         0.55997521,  0.64968022,  0.73938523,  0.82909024,  0.91879525,\n",
       "         1.00850026,  1.09820527,  1.18791028,  1.27761529,  1.3673203 ,\n",
       "         1.45702531,  1.54673032,  1.63643533,  1.72614034,  1.81584535,\n",
       "         1.90555036,  1.99525537,  2.08496038,  2.17466539,  2.2643704 ,\n",
       "         2.35407541,  2.44378042,  2.53348542,  2.62319043,  2.71289544,\n",
       "         2.80260045,  2.89230546,  2.98201047,  3.07171548,  3.16142049,\n",
       "         3.2511255 ,  3.34083051,  3.43053552,  3.52024053,  3.60994554,\n",
       "         3.69965055,  3.78935556,  3.87906057,  3.96876558,  4.05847059,\n",
       "         4.1481756 ,  4.23788061,  4.32758562,  4.41729063,  4.50699564,\n",
       "         4.59670065]),\n",
       " <BarContainer object of 100 artists>)"
      ]
     },
     "execution_count": 186,
     "metadata": {},
     "output_type": "execute_result"
    },
    {
     "data": {
      "image/png": "[encoded data removed]",
      "text/plain": [
       "<Figure size 432x288 with 1 Axes>"
      ]
     },
     "metadata": {
      "needs_background": "light"
     },
     "output_type": "display_data"
    }
   ],
   "source": [
    "# Example 5.4) distribution\n",
    "\n",
    "#plt.hist(np.random.rand(10000))\n",
    "plt.hist(np.random.randn(100000), bins=100)"
   ]
  },
  {
   "cell_type": "markdown",
   "metadata": {},
   "source": [
    "__Question?__"
   ]
  },
  {
   "cell_type": "code",
   "execution_count": 190,
   "metadata": {},
   "outputs": [
    {
     "data": {
      "text/plain": [
       "[<matplotlib.lines.Line2D at 0x127ce95e0>]"
      ]
     },
     "execution_count": 190,
     "metadata": {},
     "output_type": "execute_result"
    },
    {
     "data": {
      "image/png": "[encoded data removed]",
      "text/plain": [
       "<Figure size 432x288 with 1 Axes>"
      ]
     },
     "metadata": {
      "needs_background": "light"
     },
     "output_type": "display_data"
    }
   ],
   "source": [
    "# Exercise) 통계적 확률\n",
    "\n",
    "# 주사위를 던져서 5가 나올 확률\n",
    "\n",
    "total = 0   # 현재까지 시행 횟수\n",
    "num_5 = 0   # 5가 나온 횟수\n",
    "iteration = 10000 # 총 실험 횟수\n",
    "\n",
    "x = [] \n",
    "y = [] # 실험 결과를 시각화하기 위한 임시 변수들\n",
    "\n",
    "for n in range(iteration):\n",
    "    dice = 1 + np.random.randint(6)\n",
    "    total += 1\n",
    "\n",
    "    if dice == 5:\n",
    "        num_5 += 1\n",
    "\n",
    "    x.append(n)\n",
    "    y.append(num_5/total)\n",
    "\n",
    "plt.plot(x,y)\n",
    "plt.plot(x, [1/6]*iteration, linestyle = 'dashed')"
   ]
  },
  {
   "cell_type": "markdown",
   "metadata": {},
   "source": [
    "# 실전 가장 쉬운 머신러닝"
   ]
  },
  {
   "cell_type": "code",
   "execution_count": 191,
   "metadata": {},
   "outputs": [],
   "source": [
    "import pickle\n",
    "\n",
    "# load\n",
    "with open('data.pickle', 'rb') as f:\n",
    "    data = pickle.load(f)\n",
    "\n",
    "with open('test_data.pickle', 'rb') as f:\n",
    "    test_data = pickle.load(f)"
   ]
  },
  {
   "cell_type": "code",
   "execution_count": 192,
   "metadata": {},
   "outputs": [
    {
     "data": {
      "text/plain": [
       "((2, 100), (2, 10))"
      ]
     },
     "execution_count": 192,
     "metadata": {},
     "output_type": "execute_result"
    }
   ],
   "source": [
    "data.shape, test_data.shape"
   ]
  },
  {
   "cell_type": "code",
   "execution_count": 194,
   "metadata": {},
   "outputs": [
    {
     "data": {
      "text/plain": [
       "(2, 100)"
      ]
     },
     "execution_count": 194,
     "metadata": {},
     "output_type": "execute_result"
    }
   ],
   "source": [
    "data.shape"
   ]
  },
  {
   "cell_type": "code",
   "execution_count": 196,
   "metadata": {},
   "outputs": [],
   "source": [
    "x = data[0]\n",
    "y = data[1]"
   ]
  },
  {
   "cell_type": "code",
   "execution_count": 198,
   "metadata": {},
   "outputs": [
    {
     "data": {
      "text/plain": [
       "<matplotlib.collections.PathCollection at 0x127d2b5e0>"
      ]
     },
     "execution_count": 198,
     "metadata": {},
     "output_type": "execute_result"
    },
    {
     "data": {
      "image/png": "[encoded data removed]",
      "text/plain": [
       "<Figure size 432x288 with 1 Axes>"
      ]
     },
     "metadata": {
      "needs_background": "light"
     },
     "output_type": "display_data"
    }
   ],
   "source": [
    "plt.scatter(x,y)"
   ]
  },
  {
   "cell_type": "markdown",
   "metadata": {},
   "source": [
    "# 선형회귀 => 최소제곱법\n",
    "\n",
    "$(x_i, y_i)$ 꼴로 주어진 데이터가 있을 떄,\n",
    "\n",
    "$$X = ([x_i, 1]), Y = [y_i]$$ \n"
   ]
  },
  {
   "cell_type": "code",
   "execution_count": 203,
   "metadata": {},
   "outputs": [
    {
     "name": "stdout",
     "output_type": "stream",
     "text": [
      "[[ 0.          1.        ]\n",
      " [ 0.1010101   1.        ]\n",
      " [ 0.2020202   1.        ]\n",
      " [ 0.3030303   1.        ]\n",
      " [ 0.4040404   1.        ]\n",
      " [ 0.50505051  1.        ]\n",
      " [ 0.60606061  1.        ]\n",
      " [ 0.70707071  1.        ]\n",
      " [ 0.80808081  1.        ]\n",
      " [ 0.90909091  1.        ]\n",
      " [ 1.01010101  1.        ]\n",
      " [ 1.11111111  1.        ]\n",
      " [ 1.21212121  1.        ]\n",
      " [ 1.31313131  1.        ]\n",
      " [ 1.41414141  1.        ]\n",
      " [ 1.51515152  1.        ]\n",
      " [ 1.61616162  1.        ]\n",
      " [ 1.71717172  1.        ]\n",
      " [ 1.81818182  1.        ]\n",
      " [ 1.91919192  1.        ]\n",
      " [ 2.02020202  1.        ]\n",
      " [ 2.12121212  1.        ]\n",
      " [ 2.22222222  1.        ]\n",
      " [ 2.32323232  1.        ]\n",
      " [ 2.42424242  1.        ]\n",
      " [ 2.52525253  1.        ]\n",
      " [ 2.62626263  1.        ]\n",
      " [ 2.72727273  1.        ]\n",
      " [ 2.82828283  1.        ]\n",
      " [ 2.92929293  1.        ]\n",
      " [ 3.03030303  1.        ]\n",
      " [ 3.13131313  1.        ]\n",
      " [ 3.23232323  1.        ]\n",
      " [ 3.33333333  1.        ]\n",
      " [ 3.43434343  1.        ]\n",
      " [ 3.53535354  1.        ]\n",
      " [ 3.63636364  1.        ]\n",
      " [ 3.73737374  1.        ]\n",
      " [ 3.83838384  1.        ]\n",
      " [ 3.93939394  1.        ]\n",
      " [ 4.04040404  1.        ]\n",
      " [ 4.14141414  1.        ]\n",
      " [ 4.24242424  1.        ]\n",
      " [ 4.34343434  1.        ]\n",
      " [ 4.44444444  1.        ]\n",
      " [ 4.54545455  1.        ]\n",
      " [ 4.64646465  1.        ]\n",
      " [ 4.74747475  1.        ]\n",
      " [ 4.84848485  1.        ]\n",
      " [ 4.94949495  1.        ]\n",
      " [ 5.05050505  1.        ]\n",
      " [ 5.15151515  1.        ]\n",
      " [ 5.25252525  1.        ]\n",
      " [ 5.35353535  1.        ]\n",
      " [ 5.45454545  1.        ]\n",
      " [ 5.55555556  1.        ]\n",
      " [ 5.65656566  1.        ]\n",
      " [ 5.75757576  1.        ]\n",
      " [ 5.85858586  1.        ]\n",
      " [ 5.95959596  1.        ]\n",
      " [ 6.06060606  1.        ]\n",
      " [ 6.16161616  1.        ]\n",
      " [ 6.26262626  1.        ]\n",
      " [ 6.36363636  1.        ]\n",
      " [ 6.46464646  1.        ]\n",
      " [ 6.56565657  1.        ]\n",
      " [ 6.66666667  1.        ]\n",
      " [ 6.76767677  1.        ]\n",
      " [ 6.86868687  1.        ]\n",
      " [ 6.96969697  1.        ]\n",
      " [ 7.07070707  1.        ]\n",
      " [ 7.17171717  1.        ]\n",
      " [ 7.27272727  1.        ]\n",
      " [ 7.37373737  1.        ]\n",
      " [ 7.47474747  1.        ]\n",
      " [ 7.57575758  1.        ]\n",
      " [ 7.67676768  1.        ]\n",
      " [ 7.77777778  1.        ]\n",
      " [ 7.87878788  1.        ]\n",
      " [ 7.97979798  1.        ]\n",
      " [ 8.08080808  1.        ]\n",
      " [ 8.18181818  1.        ]\n",
      " [ 8.28282828  1.        ]\n",
      " [ 8.38383838  1.        ]\n",
      " [ 8.48484848  1.        ]\n",
      " [ 8.58585859  1.        ]\n",
      " [ 8.68686869  1.        ]\n",
      " [ 8.78787879  1.        ]\n",
      " [ 8.88888889  1.        ]\n",
      " [ 8.98989899  1.        ]\n",
      " [ 9.09090909  1.        ]\n",
      " [ 9.19191919  1.        ]\n",
      " [ 9.29292929  1.        ]\n",
      " [ 9.39393939  1.        ]\n",
      " [ 9.49494949  1.        ]\n",
      " [ 9.5959596   1.        ]\n",
      " [ 9.6969697   1.        ]\n",
      " [ 9.7979798   1.        ]\n",
      " [ 9.8989899   1.        ]\n",
      " [10.          1.        ]]\n"
     ]
    }
   ],
   "source": [
    "X = np.ones((len(x),2))\n",
    "X[:,0] = x\n",
    "print(X)"
   ]
  },
  {
   "cell_type": "code",
   "execution_count": 205,
   "metadata": {},
   "outputs": [
    {
     "data": {
      "text/plain": [
       "array([ 2.58947686,  0.50422245,  1.29963148,  0.22385886,  2.19219274,\n",
       "        0.96828553, -0.26594524,  1.62420886,  2.07548652,  4.68362877,\n",
       "        4.71699333,  4.99128208,  3.95427082,  3.74155895,  3.72174756,\n",
       "        4.65014612,  3.0893863 ,  5.60742634,  3.55114417,  5.35170545,\n",
       "        6.40312673,  6.09315462,  6.37918058,  4.91377648,  5.34127375,\n",
       "        5.51401476,  9.00371566,  7.8355814 ,  6.7626487 ,  4.73427714,\n",
       "        5.16813437,  5.6215197 ,  8.82056104,  7.60993128,  8.31397208,\n",
       "        9.92019249,  7.60321612,  8.04822222, 10.24236527,  7.86741969,\n",
       "        9.12570835,  7.7288596 , 10.07033619, 10.70297378,  7.83191815,\n",
       "        9.5345622 , 10.65522507, 11.19876494, 10.47625817, 12.14530273,\n",
       "       10.91227297, 12.77606959, 11.90983135, 14.18191501, 12.56011523,\n",
       "       11.55947592, 12.07054968, 11.35176846, 15.13438743, 12.19087009,\n",
       "       11.80210106, 12.04736508, 12.78236305, 14.37929192, 10.93778975,\n",
       "       13.1277319 , 11.02841033, 15.54978569, 13.13069273, 17.25063603,\n",
       "       15.43410608, 18.55082886, 15.66178741, 16.42152745, 15.95599523,\n",
       "       14.66507746, 14.01406032, 17.66944059, 15.82634547, 15.77796327,\n",
       "       18.44966799, 17.49954631, 17.17290684, 19.52774172, 17.74939082,\n",
       "       17.74321034, 17.95768897, 20.02601357, 18.92059358, 17.50695923,\n",
       "       15.6294778 , 17.27443438, 22.03193369, 18.1884526 , 21.28943264,\n",
       "       20.68851312, 18.32512033, 20.71035204, 22.60715642, 19.53512523])"
      ]
     },
     "execution_count": 205,
     "metadata": {},
     "output_type": "execute_result"
    }
   ],
   "source": [
    "Y = data[1]\n",
    "Y"
   ]
  },
  {
   "cell_type": "code",
   "execution_count": 208,
   "metadata": {},
   "outputs": [
    {
     "data": {
      "text/plain": [
       "numpy.matrix"
      ]
     },
     "execution_count": 208,
     "metadata": {},
     "output_type": "execute_result"
    }
   ],
   "source": [
    "X = np.matrix(X)\n",
    "type(X)"
   ]
  },
  {
   "cell_type": "code",
   "execution_count": 216,
   "metadata": {},
   "outputs": [
    {
     "name": "stdout",
     "output_type": "stream",
     "text": [
      "[[1.9577262  1.17568076]]\n",
      "1.9577261965616715\n"
     ]
    }
   ],
   "source": [
    "variables = (X.T*X).I*X.T@Y\n",
    "print(variables)\n",
    "print(variables[0,0])"
   ]
  },
  {
   "cell_type": "code",
   "execution_count": 217,
   "metadata": {},
   "outputs": [],
   "source": [
    "def model(x):\n",
    "    return variables[0,0]*x + variables[0,1]"
   ]
  },
  {
   "cell_type": "code",
   "execution_count": 219,
   "metadata": {},
   "outputs": [
    {
     "data": {
      "text/plain": [
       "[<matplotlib.lines.Line2D at 0x127da06d0>]"
      ]
     },
     "execution_count": 219,
     "metadata": {},
     "output_type": "execute_result"
    },
    {
     "data": {
      "image/png": "[encoded data removed]",
      "text/plain": [
       "<Figure size 432x288 with 1 Axes>"
      ]
     },
     "metadata": {
      "needs_background": "light"
     },
     "output_type": "display_data"
    }
   ],
   "source": [
    "plt.plot(x, model(x))\n",
    "plt.plot(x,y)"
   ]
  },
  {
   "cell_type": "code",
   "execution_count": 221,
   "metadata": {},
   "outputs": [
    {
     "data": {
      "text/plain": [
       "(2, 10)"
      ]
     },
     "execution_count": 221,
     "metadata": {},
     "output_type": "execute_result"
    }
   ],
   "source": [
    "test_data.shape"
   ]
  },
  {
   "cell_type": "code",
   "execution_count": 224,
   "metadata": {},
   "outputs": [
    {
     "data": {
      "text/plain": [
       "<matplotlib.collections.PathCollection at 0x127e50160>"
      ]
     },
     "execution_count": 224,
     "metadata": {},
     "output_type": "execute_result"
    },
    {
     "data": {
      "image/png": "[encoded data removed]",
      "text/plain": [
       "<Figure size 432x288 with 1 Axes>"
      ]
     },
     "metadata": {
      "needs_background": "light"
     },
     "output_type": "display_data"
    }
   ],
   "source": [
    "x_ = test_data[0]\n",
    "y_ = test_data[1]\n",
    "plt.scatter(x_,y_)\n",
    "plt.scatter(x_,model(x_))"
   ]
  },
  {
   "cell_type": "code",
   "execution_count": 225,
   "metadata": {},
   "outputs": [],
   "source": [
    "def MSE(y_test, y_predict):\n",
    "    return (1/len(y_test))*np.sum((y_test - y_predict)**2)"
   ]
  },
  {
   "cell_type": "code",
   "execution_count": 226,
   "metadata": {},
   "outputs": [
    {
     "data": {
      "text/plain": [
       "2.312467224773757"
      ]
     },
     "execution_count": 226,
     "metadata": {},
     "output_type": "execute_result"
    }
   ],
   "source": [
    "y_test = y_\n",
    "y_predict = model(x_)\n",
    "\n",
    "MSE(y_test, y_predict)"
   ]
  },
  {
   "cell_type": "code",
   "execution_count": 227,
   "metadata": {},
   "outputs": [
    {
     "data": {
      "text/plain": [
       "matrix([[1.9577262 , 1.17568076]])"
      ]
     },
     "execution_count": 227,
     "metadata": {},
     "output_type": "execute_result"
    }
   ],
   "source": [
    "variables"
   ]
  },
  {
   "cell_type": "code",
   "execution_count": 230,
   "metadata": {},
   "outputs": [
    {
     "data": {
      "text/plain": [
       "[<matplotlib.lines.Line2D at 0x127ebe760>]"
      ]
     },
     "execution_count": 230,
     "metadata": {},
     "output_type": "execute_result"
    },
    {
     "data": {
      "image/png": "[encoded data removed]",
      "text/plain": [
       "<Figure size 432x288 with 1 Axes>"
      ]
     },
     "metadata": {
      "needs_background": "light"
     },
     "output_type": "display_data"
    }
   ],
   "source": [
    "def line(x):\n",
    "    return 2*x + 1\n",
    "\n",
    "x = np.linspace(0,10, 100)\n",
    "y = line(x)\n",
    "plt.plot(x,y)"
   ]
  },
  {
   "cell_type": "code",
   "execution_count": null,
   "metadata": {},
   "outputs": [],
   "source": []
  }
 ],
 "metadata": {
  "interpreter": {
   "hash": "fd44a74d060108832760de77c5464f4356a1983905b5fe65fe90038958683030"
  },
  "kernelspec": {
   "display_name": "Python 3.8.12 ('tf25')",
   "language": "python",
   "name": "python3"
  },
  "language_info": {
   "codemirror_mode": {
    "name": "ipython",
    "version": 3
   },
   "file_extension": ".py",
   "mimetype": "text/x-python",
   "name": "python",
   "nbconvert_exporter": "python",
   "pygments_lexer": "ipython3",
   "version": "3.8.12"
  },
  "orig_nbformat": 4
 },
 "nbformat": 4,
 "nbformat_minor": 2
}
