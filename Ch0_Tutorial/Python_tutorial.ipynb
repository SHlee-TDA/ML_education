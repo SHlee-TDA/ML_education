{
 "cells": [
  {
   "cell_type": "markdown",
   "metadata": {},
   "source": [
    "\n",
    "본 튜토리얼은 PSSC(Postech Siam Student Chapter)의 머신러닝 에듀케이션 챕터에서 제공되는 컨텐츠입니다.\n",
    "상업적으로 무단 배포하실 수 없으며, 문의는 아래의 이메일로 연락주세요.\n",
    "\n",
    "- 제작자 : 이성헌 (Postech GSAI 박사과정)\n",
    "- 연락처 : shlee0125@posetech.ac.kr"
   ]
  },
  {
   "cell_type": "markdown",
   "metadata": {},
   "source": [
    "# [왕초보 머신러닝 파티 시즌 2] ㅣ Python Tutorial\n",
    "\n",
    "- 목표\n",
    "    1. 기본적인 data type\n",
    "    2. `numpy` 사용법 익히기\n",
    "    3. `matplotlib` 시각화 익히기\n",
    "    4. `def`, `if`, `for` 문 사용법 익히기"
   ]
  },
  {
   "cell_type": "markdown",
   "metadata": {},
   "source": [
    "# 01. Data Type"
   ]
  },
  {
   "cell_type": "markdown",
   "metadata": {},
   "source": [
    "- __Data type__ : 데이터마다 가지는 고유한 구조. 데이터 타입마다 사용 가능한 연산, 함수 등이 다릅니다.\n",
    "    - 대표적인 Data type은 __int__ (정수), __float__ (실수), __string__ (문자열), __list__ (리스트), __boolean__ (논리값) 등이 있습니다.\n",
    "    - 수학에서 Algebraic structure와 유사하다고 생각하면 됩니다. 실수와 정수가 가진 연산체계가 다르듯, 데이터 타입마다 연산의 규칙이 다릅니다.\n",
    "    - 어떤 데이터 `x`의 type은 `type(x)` 함수로 알 수 있습니다."
   ]
  },
  {
   "cell_type": "code",
   "execution_count": 12,
   "metadata": {},
   "outputs": [
    {
     "name": "stdout",
     "output_type": "stream",
     "text": [
      "<class 'int'>\n",
      "9\n",
      "5\n",
      "14\n",
      "49\n",
      "3\n",
      "1\n"
     ]
    }
   ],
   "source": [
    "# Example 1.1 ) [int type]\n",
    "a = 7\n",
    "b = 2\n",
    "\n",
    "\n",
    "print(type(a))\n",
    "\n",
    "print(a+b)\n",
    "\n",
    "print(a-b)\n",
    "\n",
    "print(a*b)\n",
    "\n",
    "print(a**b)\n",
    "\n",
    "print(a//b)\n",
    "\n",
    "print(a%b)"
   ]
  },
  {
   "cell_type": "code",
   "execution_count": 13,
   "metadata": {},
   "outputs": [
    {
     "name": "stdout",
     "output_type": "stream",
     "text": [
      "<class 'float'>\n",
      "5.140000000000001\n",
      "1.1400000000000001\n",
      "6.28\n",
      "1.57\n",
      "9.8596\n"
     ]
    }
   ],
   "source": [
    "# Example 1.2 ) [float type]\n",
    "\n",
    "a = 3.14\n",
    "b = 2.0\n",
    "\n",
    "\n",
    "print(type(a))\n",
    "\n",
    "print(a+b)\n",
    "\n",
    "print(a-b)\n",
    "\n",
    "print(a*b)\n",
    "\n",
    "print(a/b)\n",
    "\n",
    "print(a**b)"
   ]
  },
  {
   "cell_type": "code",
   "execution_count": 20,
   "metadata": {},
   "outputs": [
    {
     "name": "stdout",
     "output_type": "stream",
     "text": [
      "<class 'str'>\n",
      "Helloworld!\n",
      "HelloHelloHelloHelloHelloHelloHelloHelloHelloHelloHelloHelloHelloHelloHelloHelloHelloHelloHelloHelloHelloHelloHelloHelloHelloHelloHelloHelloHelloHelloHelloHelloHelloHelloHelloHelloHelloHelloHelloHelloHelloHelloHelloHelloHelloHelloHelloHelloHelloHelloHelloHelloHelloHelloHelloHelloHelloHelloHelloHelloHelloHelloHelloHelloHelloHelloHelloHelloHelloHelloHelloHelloHelloHelloHelloHelloHelloHelloHelloHelloHelloHelloHelloHelloHelloHelloHelloHelloHelloHelloHelloHelloHelloHelloHelloHelloHelloHelloHelloHello\n",
      "H\n",
      "He\n",
      "o\n"
     ]
    }
   ],
   "source": [
    "# Example 1.3 ) [string type]\n",
    "\n",
    "a = 'Hello'\n",
    "b = 'world!'\n",
    "\n",
    "print(type(a))\n",
    "\n",
    "print(a+b)\n",
    "\n",
    "print(100*a)\n",
    "\n",
    "print(a[0])\n",
    "\n",
    "print(a[0:2])\n",
    "\n",
    "print(a[-1])"
   ]
  },
  {
   "cell_type": "code",
   "execution_count": 29,
   "metadata": {},
   "outputs": [
    {
     "name": "stdout",
     "output_type": "stream",
     "text": [
      "<class 'list'>\n",
      "[1, 2, 3, 4, 5, 2, 4, 6, 8, 10]\n",
      "5\n",
      "1\n",
      "[1, 2]\n",
      "5\n",
      "[1, 2, 3, 4, 5, 1]\n"
     ]
    }
   ],
   "source": [
    "# Example 1.4 ) [list type]\n",
    "\n",
    "a = [1,2,3,4,5]\n",
    "b = [2,4,6,8,10]\n",
    "\n",
    "print(type(a))\n",
    "\n",
    "print(a+b)\n",
    "\n",
    "print(len(a))\n",
    "\n",
    "print(a[0])\n",
    "\n",
    "print(a[0:2])\n",
    "\n",
    "print(a[-1])\n",
    "\n",
    "\n",
    "##\n",
    "\n",
    "a.append(1)\n",
    "\n",
    "print(a)\n"
   ]
  },
  {
   "cell_type": "code",
   "execution_count": 39,
   "metadata": {},
   "outputs": [
    {
     "name": "stdout",
     "output_type": "stream",
     "text": [
      "False\n",
      "True\n",
      "True\n",
      "False\n"
     ]
    }
   ],
   "source": [
    "# Example 1.5 ) [boolean type]\n",
    "\n",
    "a = 1\n",
    "b = 2\n",
    "\n",
    "print(a == b)\n",
    "print(a != b)\n",
    "print(a < b)\n",
    "print(a > b)"
   ]
  },
  {
   "cell_type": "code",
   "execution_count": 40,
   "metadata": {},
   "outputs": [
    {
     "name": "stdout",
     "output_type": "stream",
     "text": [
      "2는 짝수입니다.\n"
     ]
    }
   ],
   "source": [
    "# Exercise 1) [짝수 판별기]\n",
    "a = 2\n",
    "if a % 2 != 1 :\n",
    "    print(f'{a}는 짝수입니다.')"
   ]
  },
  {
   "cell_type": "markdown",
   "metadata": {},
   "source": [
    "Data type에 대한 연습은 Jump to Python을 참고해서 필요할때마다 찾아서 사용하면 됩니다."
   ]
  },
  {
   "cell_type": "markdown",
   "metadata": {},
   "source": [
    "# 02. Numpy"
   ]
  },
  {
   "cell_type": "markdown",
   "metadata": {},
   "source": [
    "- `np.array` 연산\n",
    "- `np.matrix` 연산\n",
    "- `def` 사용법"
   ]
  },
  {
   "cell_type": "code",
   "execution_count": 31,
   "metadata": {},
   "outputs": [],
   "source": [
    "import numpy as np"
   ]
  },
  {
   "cell_type": "code",
   "execution_count": 32,
   "metadata": {},
   "outputs": [
    {
     "name": "stdout",
     "output_type": "stream",
     "text": [
      "[1 0]\n",
      "[0 1]\n"
     ]
    }
   ],
   "source": [
    "# Example 2.1) np.array\n",
    "\n",
    "'''\n",
    "array형 데이터를 정의하는 방법은 np.array()의 괄호 안에 list 형 데이터를 입력하는 것입니다.\n",
    "'''\n",
    "a = np.array([1,0])    \n",
    "print(a)\n"
   ]
  },
  {
   "cell_type": "markdown",
   "metadata": {},
   "source": [
    "처음 코딩을 할 때 list와 array의 용도를 자주 헷갈려 합니다.\n",
    "list는 그저 나열이기 때문에 list끼리의 덧셈은 나열과 나열을 연결할 뿐이지만, array는 일종의 벡터이기 때문에 벡터의 덧셈처럼 componenetwise 정의됩니다."
   ]
  },
  {
   "cell_type": "code",
   "execution_count": 44,
   "metadata": {},
   "outputs": [
    {
     "name": "stdout",
     "output_type": "stream",
     "text": [
      "덧셈: x + y =  [5 5]\n",
      "뺄셈: x - y =  [1 3]\n",
      "스칼라배: k * x =  [ 9 12]\n",
      "곱셈 : x * y =  [6 4]\n",
      "나눗셈: x / y =  [1.5 4. ]\n",
      "나머지 : x % y =  [1 0]\n",
      "몫 : x // y =  [1 4]\n",
      "내적 : np.dot(x,y) =  10\n"
     ]
    }
   ],
   "source": [
    "# Example 2.2) array의 연산\n",
    "\n",
    "# array 끼리 사칙연산과 벡터의 내적 등도 할 수 있습니다.\n",
    "x = np.array([3,4])\n",
    "y = np.array([2,1])\n",
    "k = 3\n",
    "\n",
    "# 덧셈과 뺄셈과 스칼라배 마치 벡터처럼 작동합니다.\n",
    "print('덧셈: x + y = ', x+y)\n",
    "print('뺄셈: x - y = ', x-y)\n",
    "print('스칼라배: k * x = ', k*x)\n",
    "\n",
    "# 곱셈과 나눗셈은 componentwise 하게 작동합니다.\n",
    "print('곱셈 : x * y = ', x*y)\n",
    "print('나눗셈: x / y = ', x/y)\n",
    "print('나머지 : x % y = ', x%y)  # python 에서 4 % 3 은 '4를 3으로 나눈 나머지'를 배출한다.\n",
    "print('몫 : x // y = ', x//y)   # python 에서 4 // 3 은 '4를 3으로 나눈 몫'을 배출한다.\n",
    "\n",
    "# 벡터의 내적도 가능하다! 이때는 numpy에 내장된 np.dot 함수를 이용한다.\n",
    "print('내적 : np.dot(x,y) = ', np.dot(x,y))\n"
   ]
  },
  {
   "cell_type": "code",
   "execution_count": 45,
   "metadata": {},
   "outputs": [
    {
     "name": "stdout",
     "output_type": "stream",
     "text": [
      "1.0\n"
     ]
    }
   ],
   "source": [
    "# Example 2.3) def : array의 연산을 이용해 함수 정의하기\n",
    "\n",
    "\n",
    "\n",
    "def norm(x):            # 변수를 x로 가지는 norm 이라는 함수를 만들겠습니다.\n",
    "    y = np.dot(x,x)     # 임시로 y = np.dot(x,x) 로 둡니다. 우리가 원하는 것은 이것의 제곱근입니다.\n",
    "    return np.sqrt(y)   # 함숫값으로 y의 제곱근을 부여합니다. \n",
    "\n",
    "# 잘 작동하는지 테스트해봅시다\n",
    "\n",
    "a = np.array(1,np.sqrt(2))\n",
    "\n",
    "print(norm(a))"
   ]
  },
  {
   "cell_type": "code",
   "execution_count": 43,
   "metadata": {},
   "outputs": [
    {
     "name": "stdout",
     "output_type": "stream",
     "text": [
      "2.0\n"
     ]
    }
   ],
   "source": [
    "# Exercise [distance function]\n",
    "\n",
    "def dist(x,y):\n",
    "    return norm(x-y)\n",
    "\n",
    "x = np.array([1,2])\n",
    "y = np.array([1,0])\n",
    "\n",
    "print(dist(x,y))"
   ]
  },
  {
   "cell_type": "markdown",
   "metadata": {},
   "source": [
    "(Reference Equation)\n",
    "$$ x \\cdot y = \\lVert x \\rVert \\lVert y \\rVert \\cos \\theta $$"
   ]
  },
  {
   "cell_type": "code",
   "execution_count": 46,
   "metadata": {},
   "outputs": [
    {
     "name": "stdout",
     "output_type": "stream",
     "text": [
      "0.5000000000000001\n"
     ]
    }
   ],
   "source": [
    "# Exercise\n",
    "'''\n",
    "위 Reference Equation을 참고하여, 두 벡터 사이의 cosine 값을 구하는 함수를 작성하세요.\n",
    "단, 함수의 이름은 'cos'로 정의하지 마세요. 다른 라이브러리의 cos 함수와 충돌을 일으킬 수 있습니다.\n",
    "'''\n",
    "\n",
    "def cosine(x,y):\n",
    "    dot = np.dot(x,y)\n",
    "    norm_x = norm(x)\n",
    "    norm_y = norm(y)\n",
    "    return dot/(norm_x*norm_y)\n",
    "\n",
    "a = np.array([1,0])\n",
    "b = np.array([1/2, np.sqrt(3)/2])\n",
    "print(cosine(a,b))"
   ]
  },
  {
   "cell_type": "markdown",
   "metadata": {},
   "source": [
    " 행렬은 `array` 타입으로도 입력이 가능하지만, `matrix` 타입이 따로 있습니다. \n",
    " `matrix` 타입은 벡터와는 다른, 행렬만의 간편한 기능들이 첨가되어 있기 때문에 행렬을 다룰 때엔 `matrix` 타입으로 변환하는 것을 추천드립니다. "
   ]
  },
  {
   "cell_type": "code",
   "execution_count": 48,
   "metadata": {},
   "outputs": [
    {
     "name": "stdout",
     "output_type": "stream",
     "text": [
      "[[1 2 3]\n",
      " [4 5 6]\n",
      " [7 8 9]]\n"
     ]
    }
   ],
   "source": [
    "# Example 2.4) np.matrix \n",
    "'''\n",
    "matrix는 하나의 list에 여러 개의 list가 들어간 것을 입력하여 정의합니다.\n",
    "즉, [list1, list2, list3] 형태로 입력됩니다.\n",
    "이때 각 list1, list2, list3은 matrix의 행 역할을 하게 됩니다.\n",
    "'''\n",
    "\n",
    "A = np.matrix([[1,2,3],[4,5,6],[7,8,9]])\n",
    "print(A)"
   ]
  },
  {
   "cell_type": "code",
   "execution_count": 55,
   "metadata": {},
   "outputs": [
    {
     "name": "stdout",
     "output_type": "stream",
     "text": [
      "덧셈: x + y = \n",
      " [[ 3  6  9]\n",
      " [12 15 18]\n",
      " [21 24 27]]\n",
      "뺄셈: x - y = \n",
      " [[-1 -2 -3]\n",
      " [-4 -5 -6]\n",
      " [-7 -8 -9]]\n",
      "스칼라배: k * x = \n",
      " [[ 3  6  9]\n",
      " [12 15 18]\n",
      " [21 24 27]]\n",
      "곱셈 : x * y = \n",
      " [[ 60  72  84]\n",
      " [132 162 192]\n",
      " [204 252 300]]\n",
      "내적 : np.dot(x,y) = \n",
      " [[ 60  72  84]\n",
      " [132 162 192]\n",
      " [204 252 300]]\n",
      "transpose : A.T = \n",
      "  [[1 4 7]\n",
      " [2 5 8]\n",
      " [3 6 9]]\n",
      "inverse : A.I = \n",
      " [[ 3.15251974e+15 -6.30503948e+15  3.15251974e+15]\n",
      " [-6.30503948e+15  1.26100790e+16 -6.30503948e+15]\n",
      " [ 3.15251974e+15 -6.30503948e+15  3.15251974e+15]]\n"
     ]
    }
   ],
   "source": [
    "# Example 2.5) matrix 연산\n",
    "\n",
    "A = np.matrix([[1,2,3],[4,5,6],[7,8,9]])\n",
    "B = np.matrix([[2,4,6],[8,10,12],[14,16,18]])\n",
    "k = 3\n",
    "\n",
    "# 덧셈과 뺄셈과 스칼라배. 행렬처럼 작동합니다.\n",
    "print('덧셈: x + y = \\n', A+B)\n",
    "print('뺄셈: x - y = \\n', A-B)\n",
    "print('스칼라배: k * x = \\n', k*A)\n",
    "\n",
    "# 곱셈은 matrix multiplication으로 작동합니다.\n",
    "print('곱셈 : x * y = \\n', A*B)\n",
    "\n",
    "# matrix의 곱셈은 matrix 간의 dot product의 값과 같습니다.\n",
    "print('내적 : np.dot(x,y) = \\n', np.dot(A,B))\n",
    "\n",
    "# transpose 와 inverse 등, matrix 만의 특별한 연산이 가능합니다. (array에서는 이 연산이 잘 작동하지 않습니다.)\n",
    "print('transpose : A.T = \\n ', A.T)\n",
    "print('inverse : A.I = \\n', A.I)\n",
    "\n"
   ]
  },
  {
   "cell_type": "code",
   "execution_count": 57,
   "metadata": {},
   "outputs": [
    {
     "name": "stdout",
     "output_type": "stream",
     "text": [
      "덧셈: x + y = \n",
      " [[ 3  6  9]\n",
      " [12 15 18]\n",
      " [21 24 27]]\n",
      "뺄셈: x - y = \n",
      " [[-1 -2 -3]\n",
      " [-4 -5 -6]\n",
      " [-7 -8 -9]]\n",
      "스칼라배: k * x = \n",
      " [[ 3  6  9]\n",
      " [12 15 18]\n",
      " [21 24 27]]\n",
      "곱셈 : x * y = \n",
      " [[  2   8  18]\n",
      " [ 32  50  72]\n",
      " [ 98 128 162]]\n",
      "내적 : np.dot(x,y) = \n",
      " [[ 60  72  84]\n",
      " [132 162 192]\n",
      " [204 252 300]]\n",
      "transpose : A.T = \n",
      "  [[1 4 7]\n",
      " [2 5 8]\n",
      " [3 6 9]]\n"
     ]
    }
   ],
   "source": [
    "# Example 2.6) matrix vs array\n",
    "\n",
    "A = np.array([[1,2,3],[4,5,6],[7,8,9]])\n",
    "B = np.array([[2,4,6],[8,10,12],[14,16,18]])\n",
    "k = 3\n",
    "\n",
    "# 덧셈과 뺄셈과 스칼라배. 행렬처럼 작동합니다.\n",
    "print('덧셈: x + y = \\n', A+B)\n",
    "print('뺄셈: x - y = \\n', A-B)\n",
    "print('스칼라배: k * x = \\n', k*A)\n",
    "\n",
    "# 곱셈은 componentwise 작동하므로 기존 행렬의 곱셈과 다릅니다..\n",
    "print('곱셈 : x * y = \\n', A*B)\n",
    "\n",
    "# matrix의 곱셈은 matrix 간의 dot product의 값과 같습니다.\n",
    "print('내적 : np.dot(x,y) = \\n', np.dot(A,B))\n",
    "\n",
    "\n",
    "print('transpose : A.T = \\n ', A.T)\n",
    "# print('inverse : A.I = \\n', A.I) 이 기능은 array에서는 작동하지 않습니다."
   ]
  },
  {
   "cell_type": "code",
   "execution_count": 62,
   "metadata": {},
   "outputs": [],
   "source": [
    "# Exercise 2.7) Matrix multiplication\n",
    "'''\n",
    "어떻게 곱해야 할까?\n",
    "'''\n",
    "\n",
    "\n",
    "A = np.matrix([[1,-1],[1,1]])\n",
    "x = np.array([1,0])\n",
    "\n",
    "# A*x : 사이즈 문제로 안된다. x를 '행벡터'로 받아들이기 때문\n",
    "# A@x : 이렇게 곱하면 x를 '열벡터'로 취급해 계산해준다.\n",
    "\n"
   ]
  },
  {
   "cell_type": "markdown",
   "metadata": {},
   "source": [
    "# 03. Matplotlib\n"
   ]
  },
  {
   "cell_type": "markdown",
   "metadata": {},
   "source": [
    "`matplotlib` 은 가장 기본적인 시각화 도구입니다."
   ]
  },
  {
   "cell_type": "code",
   "execution_count": 63,
   "metadata": {},
   "outputs": [],
   "source": [
    "import numpy as np\n",
    "import matplotlib.pyplot as plt"
   ]
  },
  {
   "cell_type": "code",
   "execution_count": 66,
   "metadata": {},
   "outputs": [
    {
     "data": {
      "text/plain": [
       "[<matplotlib.lines.Line2D at 0x1259758e0>]"
      ]
     },
     "execution_count": 66,
     "metadata": {},
     "output_type": "execute_result"
    },
    {
     "data": {
      "image/png": "[encoded data removed]",
      "text/plain": [
       "<Figure size 432x288 with 1 Axes>"
      ]
     },
     "metadata": {
      "needs_background": "light"
     },
     "output_type": "display_data"
    }
   ],
   "source": [
    "# Example 3.1 ) plt.plot\n",
    "\n",
    "\n",
    "domain = np.linspace(-1,1, 100)\n",
    "# np.linspace(a,b,n)는 구간 [a,b]를 n등분한 array를 만드는 함수입니다.\n",
    "\n",
    "def my_function(x):\n",
    "    return x**2 + 2*x *1\n",
    "\n",
    "\n",
    "plt.plot(domain, my_function(domain))"
   ]
  },
  {
   "cell_type": "code",
   "execution_count": 85,
   "metadata": {},
   "outputs": [
    {
     "data": {
      "text/plain": [
       "Text(0.5, 1.0, 'Graph')"
      ]
     },
     "execution_count": 85,
     "metadata": {},
     "output_type": "execute_result"
    },
    {
     "data": {
      "image/png": "[encoded data removed]",
      "text/plain": [
       "<Figure size 432x288 with 1 Axes>"
      ]
     },
     "metadata": {
      "needs_background": "light"
     },
     "output_type": "display_data"
    }
   ],
   "source": [
    "# Example 3.1 ) plt.plot 2\n",
    "\n",
    "\n",
    "domain = np.linspace(-1,1, 100)\n",
    "# np.linspace(a,b,n)는 구간 [a,b]를 n등분한 array를 만드는 함수입니다.\n",
    "\n",
    "def my_function(x):\n",
    "    return x**2 + 2*x *1\n",
    "\n",
    "def my_diff(x):\n",
    "    return 2*x + 2\n",
    "\n",
    "\n",
    "plt.plot(domain, my_function(domain),'-r', label = '$f(x) = x^2 +2x + 1$')\n",
    "plt.plot(domain, my_diff(domain), '-b', label =  \"$f'(x) = 2x+2$\")\n",
    "plt.legend()\n",
    "plt.title('Graph')"
   ]
  },
  {
   "cell_type": "markdown",
   "metadata": {},
   "source": [
    "# 05. 난수 생성"
   ]
  },
  {
   "cell_type": "code",
   "execution_count": 86,
   "metadata": {},
   "outputs": [
    {
     "name": "stdout",
     "output_type": "stream",
     "text": [
      "5\n",
      "3\n"
     ]
    }
   ],
   "source": [
    "# 정수 난수 생성\n",
    "rand_int = np.random.randint(6)\n",
    "print(rand_int)\n",
    "# 주사위처럼 0~5 까지 6개의 정수 중에서 랜덤으로 하나의 값을 생성합니다.\n",
    "\n",
    "dice = 1+np.random.randint(6)\n",
    "print(dice)\n",
    "# 이렇게 하면 실제 주사위처럼 1~6 까지의 6개 정수 중 하나의 값을 생성합니다. \n"
   ]
  },
  {
   "cell_type": "code",
   "execution_count": 106,
   "metadata": {},
   "outputs": [
    {
     "name": "stdout",
     "output_type": "stream",
     "text": [
      "주사위를 던졌다!\n",
      "나온 눈의 수는 6\n",
      "주사위를 던졌다!\n",
      "나온 눈의 수는 1\n",
      "주사위를 던졌다!\n",
      "나온 눈의 수는 1\n",
      "주사위를 던졌다!\n",
      "나온 눈의 수는 5\n",
      "주사위를 던졌다!\n",
      "나온 눈의 수는 4\n",
      "주사위를 던졌다!\n",
      "나온 눈의 수는 4\n",
      "주사위를 던졌다!\n",
      "나온 눈의 수는 5\n",
      "주사위를 던졌다!\n",
      "나온 눈의 수는 3\n",
      "주사위를 던졌다!\n",
      "나온 눈의 수는 4\n",
      "주사위를 던졌다!\n",
      "나온 눈의 수는 1\n",
      "주사위를 던졌다!\n",
      "나온 눈의 수는 6\n",
      "주사위를 던졌다!\n",
      "나온 눈의 수는 6\n",
      "주사위를 던졌다!\n",
      "나온 눈의 수는 2\n",
      "주사위를 던졌다!\n",
      "나온 눈의 수는 5\n",
      "주사위를 던졌다!\n",
      "나온 눈의 수는 6\n",
      "주사위를 던졌다!\n",
      "나온 눈의 수는 5\n",
      "주사위를 던졌다!\n",
      "나온 눈의 수는 4\n",
      "주사위를 던졌다!\n",
      "나온 눈의 수는 6\n",
      "주사위를 던졌다!\n",
      "나온 눈의 수는 2\n",
      "주사위를 던졌다!\n",
      "나온 눈의 수는 1\n",
      "주사위를 던졌다!\n",
      "나온 눈의 수는 6\n",
      "주사위를 던졌다!\n",
      "나온 눈의 수는 6\n",
      "주사위를 던졌다!\n",
      "나온 눈의 수는 4\n",
      "주사위를 던졌다!\n",
      "나온 눈의 수는 1\n",
      "주사위를 던졌다!\n",
      "나온 눈의 수는 2\n",
      "주사위를 던졌다!\n",
      "나온 눈의 수는 2\n",
      "주사위를 던졌다!\n",
      "나온 눈의 수는 2\n",
      "주사위를 던졌다!\n",
      "나온 눈의 수는 3\n",
      "주사위를 던졌다!\n",
      "나온 눈의 수는 4\n",
      "주사위를 던졌다!\n",
      "나온 눈의 수는 6\n",
      "주사위를 던졌다!\n",
      "나온 눈의 수는 6\n",
      "주사위를 던졌다!\n",
      "나온 눈의 수는 3\n",
      "주사위를 던졌다!\n",
      "나온 눈의 수는 4\n",
      "주사위를 던졌다!\n",
      "나온 눈의 수는 4\n",
      "주사위를 던졌다!\n",
      "나온 눈의 수는 6\n",
      "주사위를 던졌다!\n",
      "나온 눈의 수는 2\n",
      "주사위를 던졌다!\n",
      "나온 눈의 수는 3\n",
      "주사위를 던졌다!\n",
      "나온 눈의 수는 4\n",
      "주사위를 던졌다!\n",
      "나온 눈의 수는 4\n",
      "주사위를 던졌다!\n",
      "나온 눈의 수는 4\n",
      "주사위를 던졌다!\n",
      "나온 눈의 수는 5\n",
      "주사위를 던졌다!\n",
      "나온 눈의 수는 3\n",
      "주사위를 던졌다!\n",
      "나온 눈의 수는 5\n",
      "주사위를 던졌다!\n",
      "나온 눈의 수는 1\n",
      "주사위를 던졌다!\n",
      "나온 눈의 수는 6\n",
      "주사위를 던졌다!\n",
      "나온 눈의 수는 2\n",
      "주사위를 던졌다!\n",
      "나온 눈의 수는 3\n",
      "주사위를 던졌다!\n",
      "나온 눈의 수는 1\n",
      "주사위를 던졌다!\n",
      "나온 눈의 수는 5\n",
      "주사위를 던졌다!\n",
      "나온 눈의 수는 4\n",
      "주사위를 던졌다!\n",
      "나온 눈의 수는 2\n",
      "주사위를 던졌다!\n",
      "나온 눈의 수는 3\n",
      "주사위를 던졌다!\n",
      "나온 눈의 수는 3\n",
      "주사위를 던졌다!\n",
      "나온 눈의 수는 6\n",
      "주사위를 던졌다!\n",
      "나온 눈의 수는 3\n",
      "주사위를 던졌다!\n",
      "나온 눈의 수는 6\n",
      "주사위를 던졌다!\n",
      "나온 눈의 수는 1\n",
      "주사위를 던졌다!\n",
      "나온 눈의 수는 2\n",
      "주사위를 던졌다!\n",
      "나온 눈의 수는 4\n",
      "주사위를 던졌다!\n",
      "나온 눈의 수는 1\n",
      "주사위를 던졌다!\n",
      "나온 눈의 수는 3\n",
      "주사위를 던졌다!\n",
      "나온 눈의 수는 2\n",
      "주사위를 던졌다!\n",
      "나온 눈의 수는 6\n",
      "주사위를 던졌다!\n",
      "나온 눈의 수는 1\n",
      "주사위를 던졌다!\n",
      "나온 눈의 수는 3\n",
      "주사위를 던졌다!\n",
      "나온 눈의 수는 2\n",
      "주사위를 던졌다!\n",
      "나온 눈의 수는 1\n",
      "주사위를 던졌다!\n",
      "나온 눈의 수는 6\n",
      "주사위를 던졌다!\n",
      "나온 눈의 수는 4\n",
      "주사위를 던졌다!\n",
      "나온 눈의 수는 5\n",
      "주사위를 던졌다!\n",
      "나온 눈의 수는 6\n",
      "주사위를 던졌다!\n",
      "나온 눈의 수는 6\n",
      "주사위를 던졌다!\n",
      "나온 눈의 수는 2\n",
      "주사위를 던졌다!\n",
      "나온 눈의 수는 6\n",
      "주사위를 던졌다!\n",
      "나온 눈의 수는 4\n",
      "주사위를 던졌다!\n",
      "나온 눈의 수는 6\n",
      "주사위를 던졌다!\n",
      "나온 눈의 수는 3\n",
      "주사위를 던졌다!\n",
      "나온 눈의 수는 5\n",
      "주사위를 던졌다!\n",
      "나온 눈의 수는 5\n",
      "주사위를 던졌다!\n",
      "나온 눈의 수는 5\n",
      "주사위를 던졌다!\n",
      "나온 눈의 수는 3\n",
      "주사위를 던졌다!\n",
      "나온 눈의 수는 5\n",
      "주사위를 던졌다!\n",
      "나온 눈의 수는 2\n",
      "주사위를 던졌다!\n",
      "나온 눈의 수는 3\n",
      "주사위를 던졌다!\n",
      "나온 눈의 수는 5\n",
      "주사위를 던졌다!\n",
      "나온 눈의 수는 3\n",
      "주사위를 던졌다!\n",
      "나온 눈의 수는 2\n",
      "주사위를 던졌다!\n",
      "나온 눈의 수는 4\n",
      "주사위를 던졌다!\n",
      "나온 눈의 수는 2\n",
      "주사위를 던졌다!\n",
      "나온 눈의 수는 3\n",
      "주사위를 던졌다!\n",
      "나온 눈의 수는 6\n",
      "주사위를 던졌다!\n",
      "나온 눈의 수는 2\n",
      "주사위를 던졌다!\n",
      "나온 눈의 수는 6\n",
      "주사위를 던졌다!\n",
      "나온 눈의 수는 6\n",
      "주사위를 던졌다!\n",
      "나온 눈의 수는 2\n",
      "주사위를 던졌다!\n",
      "나온 눈의 수는 4\n",
      "주사위를 던졌다!\n",
      "나온 눈의 수는 3\n",
      "주사위를 던졌다!\n",
      "나온 눈의 수는 2\n",
      "주사위를 던졌다!\n",
      "나온 눈의 수는 1\n",
      "주사위를 던졌다!\n",
      "나온 눈의 수는 1\n"
     ]
    }
   ],
   "source": [
    "# Example 5.1) for 문\n",
    "'''\n",
    "for 문은 어떤 행동을 반복할 때 사용합니다.\n",
    "'''\n",
    "\n",
    "for n in range(0,100):\n",
    "    print('주사위를 던졌다!')\n",
    "    print(f'나온 눈의 수는 {1+np.random.randint(6)}')\n"
   ]
  },
  {
   "cell_type": "code",
   "execution_count": 114,
   "metadata": {},
   "outputs": [
    {
     "data": {
      "text/plain": [
       "(array([18., 19., 18., 13., 15., 17.]),\n",
       " array([1.        , 1.83333333, 2.66666667, 3.5       , 4.33333333,\n",
       "        5.16666667, 6.        ]),\n",
       " <BarContainer object of 6 artists>)"
      ]
     },
     "execution_count": 114,
     "metadata": {},
     "output_type": "execute_result"
    },
    {
     "data": {
      "image/png": "[encoded data removed]",
      "text/plain": [
       "<Figure size 432x288 with 1 Axes>"
      ]
     },
     "metadata": {
      "needs_background": "light"
     },
     "output_type": "display_data"
    }
   ],
   "source": [
    "# Example 5.2) plt.hist\n",
    "'''\n",
    "plt.hist 는 히스토그램을 살펴볼 수 있게 해줍니다.\n",
    "'''\n",
    "\n",
    "history = []\n",
    "\n",
    "for i in range(0,100):\n",
    "    num = 1+np.random.randint(6)\n",
    "    history.append(num)\n",
    "\n",
    "plt.hist(history, bins = 6)"
   ]
  },
  {
   "cell_type": "code",
   "execution_count": 115,
   "metadata": {},
   "outputs": [
    {
     "name": "stdout",
     "output_type": "stream",
     "text": [
      "0.7918285797332927\n",
      "0.3781066557983412\n",
      "19.960732713002\n"
     ]
    }
   ],
   "source": [
    "\n",
    "# 소수 난수 생성\n",
    "rand_flot = np.random.rand()\n",
    "# 0 ~ 1 사이의 소수를 랜덤으로 반환합니다. 즉, Unif[0,1]을 따르는 샘플링입니다.\n",
    "print(rand_flot)\n",
    "\n",
    "rand_snd = np.random.randn()\n",
    "# Standard Normal Distribution N(0,1)을 따르는 분포에서 샘플링을 합니다.\n",
    "# 이 식을 선형적으로 변환하면 일반적인 정규분포 N(m,sigma)에서 샘플링이 가능합니다.\n",
    "print(rand_snd)\n",
    "\n",
    "\n",
    "mu = 20\n",
    "sigma = 5\n",
    "rand_normal = sigma*np.random.randn()+mu\n",
    "print(rand_normal)"
   ]
  },
  {
   "cell_type": "code",
   "execution_count": 119,
   "metadata": {},
   "outputs": [
    {
     "data": {
      "text/plain": [
       "(array([  7.,  18.,  76., 165., 258., 231., 154.,  65.,  24.,   2.]),\n",
       " array([-3.26550418, -2.60065231, -1.93580045, -1.27094858, -0.60609672,\n",
       "         0.05875515,  0.72360701,  1.38845887,  2.05331074,  2.7181626 ,\n",
       "         3.38301447]),\n",
       " <BarContainer object of 10 artists>)"
      ]
     },
     "execution_count": 119,
     "metadata": {},
     "output_type": "execute_result"
    },
    {
     "data": {
      "image/png": "[encoded data removed]",
      "text/plain": [
       "<Figure size 432x288 with 1 Axes>"
      ]
     },
     "metadata": {
      "needs_background": "light"
     },
     "output_type": "display_data"
    }
   ],
   "source": [
    "# Example 5.4) distribution\n",
    "\n",
    "#plt.hist(np.random.rand(10000))\n",
    "plt.hist(np.random.randn(1000))"
   ]
  },
  {
   "cell_type": "code",
   "execution_count": 120,
   "metadata": {},
   "outputs": [
    {
     "data": {
      "image/png": "[encoded data removed]",
      "text/plain": [
       "<Figure size 432x288 with 1 Axes>"
      ]
     },
     "metadata": {
      "needs_background": "light"
     },
     "output_type": "display_data"
    }
   ],
   "source": [
    "# Example 5.5) 통계적 확률\n",
    "\n",
    "# 주사위를 던져서 5가 나올 확률\n",
    "\n",
    "import numpy as np\n",
    "import matplotlib.pyplot as plt     # 그래프를 그리는데 쓰이는 가장 기본적인 라이브러리입니다.\n",
    "\n",
    "total = 0 # 시행 횟수\n",
    "num_5 = 0 # 5가 나온 횟수\n",
    "iteration = 10000 # 시행횟수\n",
    "\n",
    "x = []  # 그래프를 그리기 위한 임시변수들\n",
    "y = []\n",
    "\n",
    "\n",
    "for i in range(iteration): # 임시변수 i가 0에서 iteration까지 변하면서 아래 명령을 수행하시오\n",
    "    dice = 1 + np.random.randint(6) # 주사위 던지기\n",
    "    total += 1 # 시행횟수를 1회 증가시켜라\n",
    "\n",
    "    if dice == 5 : # 주사위 눈이 5가 나온다면?\n",
    "        num_5 += 1 # 5가 나온 횟수를 1회 증가시켜라\n",
    "\n",
    "    x.append(i)\n",
    "    y.append(num_5/total)\n",
    "\n",
    "plt.plot(x,y)\n",
    "plt.plot(x, [1/6]*iteration, linestyle = 'dashed') # 진짜 확률이 1/6 로 수렴하는지 확인하기 위한 보조선\n",
    "\n",
    "plt.xlabel('iteration', size = 14)\n",
    "plt.ylabel('probability', size = 14)\n",
    "plt.grid()\n",
    "\n"
   ]
  },
  {
   "cell_type": "markdown",
   "metadata": {},
   "source": [
    "# 실전 가장 쉬운 머신러닝"
   ]
  },
  {
   "cell_type": "code",
   "execution_count": 121,
   "metadata": {},
   "outputs": [
    {
     "data": {
      "text/plain": [
       "[<matplotlib.lines.Line2D at 0x12a8d67f0>]"
      ]
     },
     "execution_count": 121,
     "metadata": {},
     "output_type": "execute_result"
    },
    {
     "data": {
      "image/png": "[encoded data removed]",
      "text/plain": [
       "<Figure size 432x288 with 1 Axes>"
      ]
     },
     "metadata": {
      "needs_background": "light"
     },
     "output_type": "display_data"
    }
   ],
   "source": [
    "d line(x):\n",
    "    return 2*x + 1\n",
    "\n",
    "x = np.linspace(0,10, 100)\n",
    "y = line(x)\n",
    "plt.plot(x,y)ef"
   ]
  },
  {
   "cell_type": "code",
   "execution_count": 125,
   "metadata": {},
   "outputs": [
    {
     "data": {
      "text/plain": [
       "<matplotlib.collections.PathCollection at 0x12be7e880>"
      ]
     },
     "execution_count": 125,
     "metadata": {},
     "output_type": "execute_result"
    },
    {
     "data": {
      "image/png": "[encoded data removed]",
      "text/plain": [
       "<Figure size 432x288 with 1 Axes>"
      ]
     },
     "metadata": {
      "needs_background": "light"
     },
     "output_type": "display_data"
    }
   ],
   "source": [
    "y += np.random.randn(len(y))\n",
    "plt.scatter(x,y)"
   ]
  },
  {
   "cell_type": "code",
   "execution_count": 156,
   "metadata": {},
   "outputs": [
    {
     "data": {
      "text/plain": [
       "<matplotlib.collections.PathCollection at 0x12c815eb0>"
      ]
     },
     "execution_count": 156,
     "metadata": {},
     "output_type": "execute_result"
    },
    {
     "data": {
      "image/png": "[encoded data removed]",
      "text/plain": [
       "<Figure size 432x288 with 1 Axes>"
      ]
     },
     "metadata": {
      "needs_background": "light"
     },
     "output_type": "display_data"
    }
   ],
   "source": [
    "x = np.linspace(0,10, 10)\n",
    "y = line(x)\n",
    "y += np.random.randn(len(y))\n",
    "plt.scatter(x,y)"
   ]
  },
  {
   "cell_type": "code",
   "execution_count": 157,
   "metadata": {},
   "outputs": [],
   "source": [
    "test_data = np.array([x,y])\n",
    "\n",
    "import pickle\n",
    "\n",
    "# save\n",
    "with open('test_data.pickle', 'wb') as f:\n",
    "    pickle.dump(test_data, f, pickle.HIGHEST_PROTOCOL)"
   ]
  },
  {
   "cell_type": "code",
   "execution_count": 128,
   "metadata": {},
   "outputs": [
    {
     "data": {
      "text/plain": [
       "(2, 100)"
      ]
     },
     "execution_count": 128,
     "metadata": {},
     "output_type": "execute_result"
    }
   ],
   "source": [
    "data = np.array([x,y])\n",
    "data.shape"
   ]
  },
  {
   "cell_type": "code",
   "execution_count": 130,
   "metadata": {},
   "outputs": [
    {
     "data": {
      "text/plain": [
       "array([ 0.        ,  0.1010101 ,  0.2020202 ,  0.3030303 ,  0.4040404 ,\n",
       "        0.50505051,  0.60606061,  0.70707071,  0.80808081,  0.90909091,\n",
       "        1.01010101,  1.11111111,  1.21212121,  1.31313131,  1.41414141,\n",
       "        1.51515152,  1.61616162,  1.71717172,  1.81818182,  1.91919192,\n",
       "        2.02020202,  2.12121212,  2.22222222,  2.32323232,  2.42424242,\n",
       "        2.52525253,  2.62626263,  2.72727273,  2.82828283,  2.92929293,\n",
       "        3.03030303,  3.13131313,  3.23232323,  3.33333333,  3.43434343,\n",
       "        3.53535354,  3.63636364,  3.73737374,  3.83838384,  3.93939394,\n",
       "        4.04040404,  4.14141414,  4.24242424,  4.34343434,  4.44444444,\n",
       "        4.54545455,  4.64646465,  4.74747475,  4.84848485,  4.94949495,\n",
       "        5.05050505,  5.15151515,  5.25252525,  5.35353535,  5.45454545,\n",
       "        5.55555556,  5.65656566,  5.75757576,  5.85858586,  5.95959596,\n",
       "        6.06060606,  6.16161616,  6.26262626,  6.36363636,  6.46464646,\n",
       "        6.56565657,  6.66666667,  6.76767677,  6.86868687,  6.96969697,\n",
       "        7.07070707,  7.17171717,  7.27272727,  7.37373737,  7.47474747,\n",
       "        7.57575758,  7.67676768,  7.77777778,  7.87878788,  7.97979798,\n",
       "        8.08080808,  8.18181818,  8.28282828,  8.38383838,  8.48484848,\n",
       "        8.58585859,  8.68686869,  8.78787879,  8.88888889,  8.98989899,\n",
       "        9.09090909,  9.19191919,  9.29292929,  9.39393939,  9.49494949,\n",
       "        9.5959596 ,  9.6969697 ,  9.7979798 ,  9.8989899 , 10.        ])"
      ]
     },
     "execution_count": 130,
     "metadata": {},
     "output_type": "execute_result"
    }
   ],
   "source": [
    "data[0]"
   ]
  },
  {
   "cell_type": "code",
   "execution_count": 131,
   "metadata": {},
   "outputs": [
    {
     "data": {
      "text/plain": [
       "array([ 2.58947686,  0.50422245,  1.29963148,  0.22385886,  2.19219274,\n",
       "        0.96828553, -0.26594524,  1.62420886,  2.07548652,  4.68362877,\n",
       "        4.71699333,  4.99128208,  3.95427082,  3.74155895,  3.72174756,\n",
       "        4.65014612,  3.0893863 ,  5.60742634,  3.55114417,  5.35170545,\n",
       "        6.40312673,  6.09315462,  6.37918058,  4.91377648,  5.34127375,\n",
       "        5.51401476,  9.00371566,  7.8355814 ,  6.7626487 ,  4.73427714,\n",
       "        5.16813437,  5.6215197 ,  8.82056104,  7.60993128,  8.31397208,\n",
       "        9.92019249,  7.60321612,  8.04822222, 10.24236527,  7.86741969,\n",
       "        9.12570835,  7.7288596 , 10.07033619, 10.70297378,  7.83191815,\n",
       "        9.5345622 , 10.65522507, 11.19876494, 10.47625817, 12.14530273,\n",
       "       10.91227297, 12.77606959, 11.90983135, 14.18191501, 12.56011523,\n",
       "       11.55947592, 12.07054968, 11.35176846, 15.13438743, 12.19087009,\n",
       "       11.80210106, 12.04736508, 12.78236305, 14.37929192, 10.93778975,\n",
       "       13.1277319 , 11.02841033, 15.54978569, 13.13069273, 17.25063603,\n",
       "       15.43410608, 18.55082886, 15.66178741, 16.42152745, 15.95599523,\n",
       "       14.66507746, 14.01406032, 17.66944059, 15.82634547, 15.77796327,\n",
       "       18.44966799, 17.49954631, 17.17290684, 19.52774172, 17.74939082,\n",
       "       17.74321034, 17.95768897, 20.02601357, 18.92059358, 17.50695923,\n",
       "       15.6294778 , 17.27443438, 22.03193369, 18.1884526 , 21.28943264,\n",
       "       20.68851312, 18.32512033, 20.71035204, 22.60715642, 19.53512523])"
      ]
     },
     "execution_count": 131,
     "metadata": {},
     "output_type": "execute_result"
    }
   ],
   "source": [
    "data[1]"
   ]
  },
  {
   "cell_type": "code",
   "execution_count": 133,
   "metadata": {},
   "outputs": [
    {
     "data": {
      "text/plain": [
       "<matplotlib.collections.PathCollection at 0x12bef1a00>"
      ]
     },
     "execution_count": 133,
     "metadata": {},
     "output_type": "execute_result"
    },
    {
     "data": {
      "image/png": "[encoded data removed]",
      "text/plain": [
       "<Figure size 432x288 with 1 Axes>"
      ]
     },
     "metadata": {
      "needs_background": "light"
     },
     "output_type": "display_data"
    }
   ],
   "source": [
    "plt.scatter(data[0],data[1])"
   ]
  },
  {
   "cell_type": "code",
   "execution_count": 151,
   "metadata": {},
   "outputs": [],
   "source": [
    "import pickle\n",
    "\n",
    "# save\n",
    "with open('data.pickle', 'wb') as f:\n",
    "    pickle.dump(data, f, pickle.HIGHEST_PROTOCOL)"
   ]
  },
  {
   "cell_type": "code",
   "execution_count": 152,
   "metadata": {},
   "outputs": [],
   "source": [
    "# load\n",
    "with open('data.pickle', 'rb') as f:\n",
    "    data = pickle.load(f)"
   ]
  },
  {
   "cell_type": "code",
   "execution_count": 154,
   "metadata": {},
   "outputs": [
    {
     "data": {
      "text/plain": [
       "(2, 100)"
      ]
     },
     "execution_count": 154,
     "metadata": {},
     "output_type": "execute_result"
    }
   ],
   "source": [
    "data.shape"
   ]
  },
  {
   "cell_type": "code",
   "execution_count": 136,
   "metadata": {},
   "outputs": [
    {
     "data": {
      "text/plain": [
       "array([[ 0.        ,  1.        ],\n",
       "       [ 0.1010101 ,  1.        ],\n",
       "       [ 0.2020202 ,  1.        ],\n",
       "       [ 0.3030303 ,  1.        ],\n",
       "       [ 0.4040404 ,  1.        ],\n",
       "       [ 0.50505051,  1.        ],\n",
       "       [ 0.60606061,  1.        ],\n",
       "       [ 0.70707071,  1.        ],\n",
       "       [ 0.80808081,  1.        ],\n",
       "       [ 0.90909091,  1.        ],\n",
       "       [ 1.01010101,  1.        ],\n",
       "       [ 1.11111111,  1.        ],\n",
       "       [ 1.21212121,  1.        ],\n",
       "       [ 1.31313131,  1.        ],\n",
       "       [ 1.41414141,  1.        ],\n",
       "       [ 1.51515152,  1.        ],\n",
       "       [ 1.61616162,  1.        ],\n",
       "       [ 1.71717172,  1.        ],\n",
       "       [ 1.81818182,  1.        ],\n",
       "       [ 1.91919192,  1.        ],\n",
       "       [ 2.02020202,  1.        ],\n",
       "       [ 2.12121212,  1.        ],\n",
       "       [ 2.22222222,  1.        ],\n",
       "       [ 2.32323232,  1.        ],\n",
       "       [ 2.42424242,  1.        ],\n",
       "       [ 2.52525253,  1.        ],\n",
       "       [ 2.62626263,  1.        ],\n",
       "       [ 2.72727273,  1.        ],\n",
       "       [ 2.82828283,  1.        ],\n",
       "       [ 2.92929293,  1.        ],\n",
       "       [ 3.03030303,  1.        ],\n",
       "       [ 3.13131313,  1.        ],\n",
       "       [ 3.23232323,  1.        ],\n",
       "       [ 3.33333333,  1.        ],\n",
       "       [ 3.43434343,  1.        ],\n",
       "       [ 3.53535354,  1.        ],\n",
       "       [ 3.63636364,  1.        ],\n",
       "       [ 3.73737374,  1.        ],\n",
       "       [ 3.83838384,  1.        ],\n",
       "       [ 3.93939394,  1.        ],\n",
       "       [ 4.04040404,  1.        ],\n",
       "       [ 4.14141414,  1.        ],\n",
       "       [ 4.24242424,  1.        ],\n",
       "       [ 4.34343434,  1.        ],\n",
       "       [ 4.44444444,  1.        ],\n",
       "       [ 4.54545455,  1.        ],\n",
       "       [ 4.64646465,  1.        ],\n",
       "       [ 4.74747475,  1.        ],\n",
       "       [ 4.84848485,  1.        ],\n",
       "       [ 4.94949495,  1.        ],\n",
       "       [ 5.05050505,  1.        ],\n",
       "       [ 5.15151515,  1.        ],\n",
       "       [ 5.25252525,  1.        ],\n",
       "       [ 5.35353535,  1.        ],\n",
       "       [ 5.45454545,  1.        ],\n",
       "       [ 5.55555556,  1.        ],\n",
       "       [ 5.65656566,  1.        ],\n",
       "       [ 5.75757576,  1.        ],\n",
       "       [ 5.85858586,  1.        ],\n",
       "       [ 5.95959596,  1.        ],\n",
       "       [ 6.06060606,  1.        ],\n",
       "       [ 6.16161616,  1.        ],\n",
       "       [ 6.26262626,  1.        ],\n",
       "       [ 6.36363636,  1.        ],\n",
       "       [ 6.46464646,  1.        ],\n",
       "       [ 6.56565657,  1.        ],\n",
       "       [ 6.66666667,  1.        ],\n",
       "       [ 6.76767677,  1.        ],\n",
       "       [ 6.86868687,  1.        ],\n",
       "       [ 6.96969697,  1.        ],\n",
       "       [ 7.07070707,  1.        ],\n",
       "       [ 7.17171717,  1.        ],\n",
       "       [ 7.27272727,  1.        ],\n",
       "       [ 7.37373737,  1.        ],\n",
       "       [ 7.47474747,  1.        ],\n",
       "       [ 7.57575758,  1.        ],\n",
       "       [ 7.67676768,  1.        ],\n",
       "       [ 7.77777778,  1.        ],\n",
       "       [ 7.87878788,  1.        ],\n",
       "       [ 7.97979798,  1.        ],\n",
       "       [ 8.08080808,  1.        ],\n",
       "       [ 8.18181818,  1.        ],\n",
       "       [ 8.28282828,  1.        ],\n",
       "       [ 8.38383838,  1.        ],\n",
       "       [ 8.48484848,  1.        ],\n",
       "       [ 8.58585859,  1.        ],\n",
       "       [ 8.68686869,  1.        ],\n",
       "       [ 8.78787879,  1.        ],\n",
       "       [ 8.88888889,  1.        ],\n",
       "       [ 8.98989899,  1.        ],\n",
       "       [ 9.09090909,  1.        ],\n",
       "       [ 9.19191919,  1.        ],\n",
       "       [ 9.29292929,  1.        ],\n",
       "       [ 9.39393939,  1.        ],\n",
       "       [ 9.49494949,  1.        ],\n",
       "       [ 9.5959596 ,  1.        ],\n",
       "       [ 9.6969697 ,  1.        ],\n",
       "       [ 9.7979798 ,  1.        ],\n",
       "       [ 9.8989899 ,  1.        ],\n",
       "       [10.        ,  1.        ]])"
      ]
     },
     "execution_count": 136,
     "metadata": {},
     "output_type": "execute_result"
    }
   ],
   "source": [
    "X = np.ones((len(data[0]),2))\n",
    "X[:,0] = data[0]\n",
    "X"
   ]
  },
  {
   "cell_type": "code",
   "execution_count": 137,
   "metadata": {},
   "outputs": [],
   "source": [
    "Y = data[1]"
   ]
  },
  {
   "cell_type": "code",
   "execution_count": 138,
   "metadata": {},
   "outputs": [
    {
     "data": {
      "text/plain": [
       "array([ 2.58947686,  0.50422245,  1.29963148,  0.22385886,  2.19219274,\n",
       "        0.96828553, -0.26594524,  1.62420886,  2.07548652,  4.68362877,\n",
       "        4.71699333,  4.99128208,  3.95427082,  3.74155895,  3.72174756,\n",
       "        4.65014612,  3.0893863 ,  5.60742634,  3.55114417,  5.35170545,\n",
       "        6.40312673,  6.09315462,  6.37918058,  4.91377648,  5.34127375,\n",
       "        5.51401476,  9.00371566,  7.8355814 ,  6.7626487 ,  4.73427714,\n",
       "        5.16813437,  5.6215197 ,  8.82056104,  7.60993128,  8.31397208,\n",
       "        9.92019249,  7.60321612,  8.04822222, 10.24236527,  7.86741969,\n",
       "        9.12570835,  7.7288596 , 10.07033619, 10.70297378,  7.83191815,\n",
       "        9.5345622 , 10.65522507, 11.19876494, 10.47625817, 12.14530273,\n",
       "       10.91227297, 12.77606959, 11.90983135, 14.18191501, 12.56011523,\n",
       "       11.55947592, 12.07054968, 11.35176846, 15.13438743, 12.19087009,\n",
       "       11.80210106, 12.04736508, 12.78236305, 14.37929192, 10.93778975,\n",
       "       13.1277319 , 11.02841033, 15.54978569, 13.13069273, 17.25063603,\n",
       "       15.43410608, 18.55082886, 15.66178741, 16.42152745, 15.95599523,\n",
       "       14.66507746, 14.01406032, 17.66944059, 15.82634547, 15.77796327,\n",
       "       18.44966799, 17.49954631, 17.17290684, 19.52774172, 17.74939082,\n",
       "       17.74321034, 17.95768897, 20.02601357, 18.92059358, 17.50695923,\n",
       "       15.6294778 , 17.27443438, 22.03193369, 18.1884526 , 21.28943264,\n",
       "       20.68851312, 18.32512033, 20.71035204, 22.60715642, 19.53512523])"
      ]
     },
     "execution_count": 138,
     "metadata": {},
     "output_type": "execute_result"
    }
   ],
   "source": [
    "Y"
   ]
  },
  {
   "cell_type": "code",
   "execution_count": 140,
   "metadata": {},
   "outputs": [
    {
     "ename": "ValueError",
     "evalue": "operands could not be broadcast together with shapes (2,100) (100,2) ",
     "output_type": "error",
     "traceback": [
      "\u001b[0;31m---------------------------------------------------------------------------\u001b[0m",
      "\u001b[0;31mValueError\u001b[0m                                Traceback (most recent call last)",
      "\u001b[1;32m/Users/shlee/Desktop/ML_Edu/Ch0_Tutorial/Python_tutorial.ipynb Cell 49'\u001b[0m in \u001b[0;36m<module>\u001b[0;34m\u001b[0m\n\u001b[0;32m----> <a href='vscode-notebook-cell:/Users/shlee/Desktop/ML_Edu/Ch0_Tutorial/Python_tutorial.ipynb#ch0000067?line=0'>1</a>\u001b[0m (X\u001b[39m.\u001b[39;49mT\u001b[39m*\u001b[39;49mX)\n",
      "\u001b[0;31mValueError\u001b[0m: operands could not be broadcast together with shapes (2,100) (100,2) "
     ]
    }
   ],
   "source": [
    "(X.T*X)"
   ]
  },
  {
   "cell_type": "code",
   "execution_count": 141,
   "metadata": {},
   "outputs": [
    {
     "data": {
      "text/plain": [
       "(100, 2)"
      ]
     },
     "execution_count": 141,
     "metadata": {},
     "output_type": "execute_result"
    }
   ],
   "source": [
    "X.shape"
   ]
  },
  {
   "cell_type": "code",
   "execution_count": 142,
   "metadata": {},
   "outputs": [
    {
     "data": {
      "text/plain": [
       "(2, 100)"
      ]
     },
     "execution_count": 142,
     "metadata": {},
     "output_type": "execute_result"
    }
   ],
   "source": [
    "X.T.shape"
   ]
  },
  {
   "cell_type": "code",
   "execution_count": 146,
   "metadata": {},
   "outputs": [],
   "source": [
    "X = np.matrix(X)"
   ]
  },
  {
   "cell_type": "code",
   "execution_count": 158,
   "metadata": {},
   "outputs": [],
   "source": [
    "sol = (X.T*X).I*X.T@Y"
   ]
  },
  {
   "cell_type": "code",
   "execution_count": 167,
   "metadata": {},
   "outputs": [
    {
     "data": {
      "text/plain": [
       "1.9577261965616715"
      ]
     },
     "execution_count": 167,
     "metadata": {},
     "output_type": "execute_result"
    }
   ],
   "source": [
    "sol[0,0]"
   ]
  },
  {
   "cell_type": "code",
   "execution_count": 168,
   "metadata": {},
   "outputs": [],
   "source": [
    "def model(x):\n",
    "    return sol[0,0]*x + sol[0,1]"
   ]
  },
  {
   "cell_type": "code",
   "execution_count": 169,
   "metadata": {},
   "outputs": [],
   "source": [
    "def MSE(y1,y2):\n",
    "    return (1/len(y1))*np.sum((y1-y2)**2)"
   ]
  },
  {
   "cell_type": "code",
   "execution_count": 170,
   "metadata": {},
   "outputs": [],
   "source": [
    "y_predict = model(test_data[0])\n",
    "y_test = test_data[1]"
   ]
  },
  {
   "cell_type": "code",
   "execution_count": 171,
   "metadata": {},
   "outputs": [
    {
     "data": {
      "text/plain": [
       "2.312467224773757"
      ]
     },
     "execution_count": 171,
     "metadata": {},
     "output_type": "execute_result"
    }
   ],
   "source": [
    "MSE(y_predict,y_test)"
   ]
  },
  {
   "cell_type": "code",
   "execution_count": 173,
   "metadata": {},
   "outputs": [
    {
     "data": {
      "text/plain": [
       "array([ 0.        ,  1.11111111,  2.22222222,  3.33333333,  4.44444444,\n",
       "        5.55555556,  6.66666667,  7.77777778,  8.88888889, 10.        ])"
      ]
     },
     "execution_count": 173,
     "metadata": {},
     "output_type": "execute_result"
    }
   ],
   "source": [
    "test_data[0]"
   ]
  },
  {
   "cell_type": "code",
   "execution_count": 174,
   "metadata": {},
   "outputs": [
    {
     "data": {
      "text/plain": [
       "[<matplotlib.lines.Line2D at 0x12c9128b0>]"
      ]
     },
     "execution_count": 174,
     "metadata": {},
     "output_type": "execute_result"
    },
    {
     "data": {
      "image/png": "[encoded data removed]",
      "text/plain": [
       "<Figure size 432x288 with 1 Axes>"
      ]
     },
     "metadata": {
      "needs_background": "light"
     },
     "output_type": "display_data"
    }
   ],
   "source": [
    "plt.plot(test_data[0],y_predict,'bo')\n",
    "plt.plot(test_data[0],y_test, 'ro')"
   ]
  },
  {
   "cell_type": "code",
   "execution_count": null,
   "metadata": {},
   "outputs": [],
   "source": []
  }
 ],
 "metadata": {
  "interpreter": {
   "hash": "fd44a74d060108832760de77c5464f4356a1983905b5fe65fe90038958683030"
  },
  "kernelspec": {
   "display_name": "Python 3.8.12 ('tf25')",
   "language": "python",
   "name": "python3"
  },
  "language_info": {
   "codemirror_mode": {
    "name": "ipython",
    "version": 3
   },
   "file_extension": ".py",
   "mimetype": "text/x-python",
   "name": "python",
   "nbconvert_exporter": "python",
   "pygments_lexer": "ipython3",
   "version": "3.8.12"
  },
  "orig_nbformat": 4
 },
 "nbformat": 4,
 "nbformat_minor": 2
}
